{
 "cells": [
  {
   "cell_type": "code",
   "execution_count": 16,
   "metadata": {},
   "outputs": [],
   "source": [
    "from sklearn.linear_model import SGDClassifier\n",
    "import numpy as np\n",
    "import pandas as pd\n",
    "import matplotlib.pyplot as plt\n",
    "from sklearn.model_selection import train_test_split\n",
    "from tensorflow import keras\n"
   ]
  },
  {
   "cell_type": "code",
   "execution_count": 17,
   "metadata": {},
   "outputs": [],
   "source": [
    "# 1. 데이터 불러오기\n",
    "(train_data,train_label),(test_data,test_label)= keras.datasets.fashion_mnist.load_data()"
   ]
  },
  {
   "cell_type": "code",
   "execution_count": 18,
   "metadata": {},
   "outputs": [
    {
     "name": "stdout",
     "output_type": "stream",
     "text": [
      "<class 'numpy.ndarray'>\n",
      "(60000, 28, 28)\n"
     ]
    }
   ],
   "source": [
    "print(type(train_data))\n",
    "print(train_data.shape)\n"
   ]
  },
  {
   "cell_type": "code",
   "execution_count": 19,
   "metadata": {},
   "outputs": [],
   "source": [
    "# 표준화,정규화\n",
    "train_s=train_data/255.0\n",
    "test_s=test_data/255.0\n"
   ]
  },
  {
   "cell_type": "code",
   "execution_count": 20,
   "metadata": {},
   "outputs": [],
   "source": [
    "# train, test 분리\n",
    "train_ss,test_ss,train_label,test_label=train_test_split(train_s,train_label)"
   ]
  },
  {
   "cell_type": "code",
   "execution_count": 21,
   "metadata": {},
   "outputs": [],
   "source": [
    "# 딥러닝 선언\n",
    "model= keras.Sequential()\n",
    "model.add(keras.layers.Flatten(input_shape=(28,28)))\n",
    "model.add(keras.layers.Dense(100,activation='relu'))\n",
    "model.add(keras.layers.Dropout(0.2))\n",
    "model.add(keras.layers.Dense(10,activation='softmax'))\n",
    "          "
   ]
  },
  {
   "cell_type": "code",
   "execution_count": 22,
   "metadata": {},
   "outputs": [],
   "source": [
    "model.compile(optimizer='adam',loss='sparse_categorical_crossentropy',metrics='accuracy')"
   ]
  },
  {
   "cell_type": "code",
   "execution_count": 23,
   "metadata": {},
   "outputs": [],
   "source": [
    "# 콜백선언\n",
    "chpoint= keras.callbacks.ModelCheckpoint('')"
   ]
  },
  {
   "cell_type": "code",
   "execution_count": 24,
   "metadata": {},
   "outputs": [],
   "source": [
    "# 조기종료\n",
    "early_stop = keras.callbacks.EarlyStopping(patience=3,restore_best_weights=True)"
   ]
  },
  {
   "cell_type": "code",
   "execution_count": 35,
   "metadata": {},
   "outputs": [
    {
     "name": "stdout",
     "output_type": "stream",
     "text": [
      "469/469 [==============================] - 2s 4ms/step - loss: 0.3248 - accuracy: 0.8817\n"
     ]
    }
   ],
   "source": []
  },
  {
   "cell_type": "code",
   "execution_count": null,
   "metadata": {},
   "outputs": [],
   "source": []
  },
  {
   "cell_type": "code",
   "execution_count": null,
   "metadata": {},
   "outputs": [],
   "source": []
  },
  {
   "cell_type": "code",
   "execution_count": null,
   "metadata": {},
   "outputs": [],
   "source": [
    "score=model.evaluate(test_ss,test_label)"
   ]
  },
  {
   "cell_type": "code",
   "execution_count": 34,
   "metadata": {},
   "outputs": [
    {
     "name": "stdout",
     "output_type": "stream",
     "text": [
      "dict_keys(['loss', 'accuracy', 'val_loss', 'val_accuracy'])\n",
      "[0.5751463770866394, 0.42189666628837585, 0.3805549442768097, 0.35706982016563416, 0.33977028727531433, 0.3278021216392517, 0.31584930419921875, 0.3051653802394867, 0.2984258830547333]\n",
      "[0.8008888959884644, 0.8491333723068237, 0.8625555634498596, 0.8704888820648193, 0.8758888840675354, 0.8797333240509033, 0.8843111395835876, 0.8877333402633667, 0.8894667029380798]\n"
     ]
    }
   ],
   "source": [
    "print(histoty.history.keys())\n",
    "print(histoty.history['loss'])\n",
    "print(histoty.history['accuracy'])"
   ]
  },
  {
   "cell_type": "code",
   "execution_count": 36,
   "metadata": {},
   "outputs": [
    {
     "data": {
      "image/png": "[encoded data removed]",
      "text/plain": [
       "<Figure size 432x288 with 1 Axes>"
      ]
     },
     "metadata": {
      "needs_background": "light"
     },
     "output_type": "display_data"
    }
   ],
   "source": [
    "plt.plot(histoty.history['loss'])\n",
    "plt.plot(histoty.history['val_loss'])\n",
    "plt.xlabel('epoch')\n",
    "plt.ylabel('loss')\n",
    "plt.legend(['train','test'])\n",
    "plt.show()"
   ]
  },
  {
   "cell_type": "code",
   "execution_count": 26,
   "metadata": {},
   "outputs": [
    {
     "name": "stdout",
     "output_type": "stream",
     "text": [
      "Epoch 1/20\n",
      "  18/1407 [..............................] - ETA: 9s - loss: 1.8827 - accuracy: 0.3316 "
     ]
    },
    {
     "name": "stderr",
     "output_type": "stream",
     "text": [
      "2022-07-18 10:39:03.292871: I tensorflow/core/grappler/optimizers/custom_graph_optimizer_registry.cc:113] Plugin optimizer for device_type GPU is enabled.\n"
     ]
    },
    {
     "name": "stdout",
     "output_type": "stream",
     "text": [
      "1407/1407 [==============================] - ETA: 0s - loss: 0.5751 - accuracy: 0.8009INFO:tensorflow:Assets written to: assets\n",
      "1407/1407 [==============================] - 9s 6ms/step - loss: 0.5751 - accuracy: 0.8009 - val_loss: 0.4328 - val_accuracy: 0.8481\n",
      "Epoch 2/20\n",
      "1407/1407 [==============================] - ETA: 0s - loss: 0.4219 - accuracy: 0.8491INFO:tensorflow:Assets written to: assets\n",
      "1407/1407 [==============================] - 10s 7ms/step - loss: 0.4219 - accuracy: 0.8491 - val_loss: 0.3882 - val_accuracy: 0.8638\n",
      "Epoch 3/20\n",
      "1405/1407 [============================>.] - ETA: 0s - loss: 0.3806 - accuracy: 0.8625INFO:tensorflow:Assets written to: assets\n",
      "1407/1407 [==============================] - 9s 6ms/step - loss: 0.3806 - accuracy: 0.8626 - val_loss: 0.3765 - val_accuracy: 0.8655\n",
      "Epoch 4/20\n",
      "1407/1407 [==============================] - ETA: 0s - loss: 0.3571 - accuracy: 0.8705INFO:tensorflow:Assets written to: assets\n",
      "1407/1407 [==============================] - 9s 7ms/step - loss: 0.3571 - accuracy: 0.8705 - val_loss: 0.3518 - val_accuracy: 0.8715\n",
      "Epoch 5/20\n",
      "1405/1407 [============================>.] - ETA: 0s - loss: 0.3397 - accuracy: 0.8759INFO:tensorflow:Assets written to: assets\n",
      "1407/1407 [==============================] - 10s 7ms/step - loss: 0.3398 - accuracy: 0.8759 - val_loss: 0.3400 - val_accuracy: 0.8759\n",
      "Epoch 6/20\n",
      "1402/1407 [============================>.] - ETA: 0s - loss: 0.3281 - accuracy: 0.8796INFO:tensorflow:Assets written to: assets\n",
      "1407/1407 [==============================] - 10s 7ms/step - loss: 0.3278 - accuracy: 0.8797 - val_loss: 0.3248 - val_accuracy: 0.8817\n",
      "Epoch 7/20\n",
      "1407/1407 [==============================] - ETA: 0s - loss: 0.3158 - accuracy: 0.8843INFO:tensorflow:Assets written to: assets\n",
      "1407/1407 [==============================] - 10s 7ms/step - loss: 0.3158 - accuracy: 0.8843 - val_loss: 0.3365 - val_accuracy: 0.8781\n",
      "Epoch 8/20\n",
      "1406/1407 [============================>.] - ETA: 0s - loss: 0.3052 - accuracy: 0.8877INFO:tensorflow:Assets written to: assets\n",
      "1407/1407 [==============================] - 10s 7ms/step - loss: 0.3052 - accuracy: 0.8877 - val_loss: 0.3302 - val_accuracy: 0.8841\n",
      "Epoch 9/20\n",
      "1400/1407 [============================>.] - ETA: 0s - loss: 0.2988 - accuracy: 0.8893INFO:tensorflow:Assets written to: assets\n",
      "1407/1407 [==============================] - 9s 6ms/step - loss: 0.2984 - accuracy: 0.8895 - val_loss: 0.3392 - val_accuracy: 0.8763\n"
     ]
    }
   ],
   "source": [
    "histoty=model.fit(train_ss,train_label,epochs=20,validation_data=(test_ss,test_label),callbacks=[chpoint,early_stop])"
   ]
  }
 ],
 "metadata": {
  "interpreter": {
   "hash": "52ee2977380704a66854748a73250e0671a9318bd5b3fd45a3df9f851ae61629"
  },
  "kernelspec": {
   "display_name": "Python 3.8.13 ('tf')",
   "language": "python",
   "name": "python3"
  },
  "language_info": {
   "codemirror_mode": {
    "name": "ipython",
    "version": 3
   },
   "file_extension": ".py",
   "mimetype": "text/x-python",
   "name": "python",
   "nbconvert_exporter": "python",
   "pygments_lexer": "ipython3",
   "version": "3.8.13"
  },
  "orig_nbformat": 4
 },
 "nbformat": 4,
 "nbformat_minor": 2
}
