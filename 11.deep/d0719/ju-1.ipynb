{
 "cells": [
  {
   "cell_type": "code",
   "execution_count": 1,
   "metadata": {},
   "outputs": [
    {
     "name": "stdout",
     "output_type": "stream",
     "text": [
      "(25000,) (25000,)\n"
     ]
    }
   ],
   "source": [
    "from tensorflow import keras\n",
    "import matplotlib.pyplot as plt\n",
    "import matplotlib\n",
    "matplotlib.rcParams['axes.unicode_minus']=False\n",
    "import numpy as np\n",
    "import pandas as pd\n",
    "from sklearn.model_selection import train_test_split\n",
    "from tensorflow.keras.datasets import imdb\n",
    "\n",
    "# 파일불러오기\n",
    "# 웹스크래핑 불러오기\n",
    "(train_data,train_label),(test_data,test_label) = imdb.load_data(num_words=500)\n",
    "# (25000,)\n",
    "print(train_data.shape,test_data.shape)"
   ]
  },
  {
   "cell_type": "code",
   "execution_count": 2,
   "metadata": {},
   "outputs": [
    {
     "name": "stdout",
     "output_type": "stream",
     "text": [
      "(18750,) (6250,)\n"
     ]
    }
   ],
   "source": [
    "# 데이터 전처리\n",
    "sub_data,val_data,sub_label,val_label = train_test_split(train_data,train_label,random_state=42)\n",
    "\n",
    "\n",
    "# \n",
    "print(sub_data.shape,val_data.shape)"
   ]
  },
  {
   "cell_type": "code",
   "execution_count": 3,
   "metadata": {},
   "outputs": [
    {
     "name": "stdout",
     "output_type": "stream",
     "text": [
      "238.71364 178.0\n",
      "2494\n",
      "11\n"
     ]
    }
   ],
   "source": [
    "lengths = np.array([len(x) for x in train_data])\n",
    "\n",
    "print(np.mean(lengths),np.median(lengths))\n",
    "print(np.max(lengths))\n",
    "print(np.min(lengths))"
   ]
  },
  {
   "cell_type": "code",
   "execution_count": null,
   "metadata": {},
   "outputs": [],
   "source": [
    "# 그래프그리기\n",
    "plt.hist(lengths)\n",
    "plt.xlabel('lengths')\n",
    "plt.ylabel('frequency')\n",
    "plt.show()"
   ]
  },
  {
   "cell_type": "code",
   "execution_count": 4,
   "metadata": {},
   "outputs": [
    {
     "name": "stdout",
     "output_type": "stream",
     "text": [
      "[  2  13 124   4   2  81   2   2 188   4   2   2  18 118   2  18  14  20\n",
      " 190  13 122  24 169 101   2  11  41 116  12 186  15   8  79   2  25  43\n",
      "  28   8   2  66   2  11   2   5   2 139   5   2  32  11  32   6  87  20\n",
      "  48  25  92  40  12 475   2 106  12 174   5  67  48  25  79  12  48  12\n",
      "   2  25   2  42   2  42   2   2  95 104  48  15  16  24  51   4 167  16\n",
      " 165   2  33 143  14  20  11   4  86 273]\n",
      "568\n",
      "100\n",
      "[312 489  10  10   2  47  69   2  11   2  11   2 153  19   2 245   5   2\n",
      "  31   7  27 171 108  13 161 459  18  21   8  72   2   9 131  27   2   2\n",
      " 259   2  19  27 303 157  80 220 434 358  14   2 157   5 174  14  22   9\n",
      "   6   2  33   4 350   7  27   2   2  23 175   2 474   2 194 278   8  30\n",
      "   2   8  67  14  23   6   2 268 137  15  80 242 115   2  45  52   8 124\n",
      "  15  33 222  14 356  47  77   2  23 288]\n"
     ]
    }
   ],
   "source": [
    "from tensorflow.keras.preprocessing.sequence import pad_sequences\n",
    "\n",
    "train_seq = pad_sequences(sub_data,maxlen=100)\n",
    "# 문장길이 218\n",
    "print(train_seq[0])\n",
    "print(len(sub_data[0]))\n",
    "print(len(train_seq[0]))\n",
    "print(train_seq[5])"
   ]
  },
  {
   "cell_type": "code",
   "execution_count": 5,
   "metadata": {},
   "outputs": [
    {
     "name": "stdout",
     "output_type": "stream",
     "text": [
      "[  2  13 124   4   2  81   2   2 188   4   2   2  18 118   2  18  14  20\n",
      " 190  13 122  24 169 101   2  11  41 116  12 186  15   8  79   2  25  43\n",
      "  28   8   2  66   2  11   2   5   2 139   5   2  32  11  32   6  87  20\n",
      "  48  25  92  40  12 475   2 106  12 174   5  67  48  25  79  12  48  12\n",
      "   2  25   2  42   2  42   2   2  95 104  48  15  16  24  51   4 167  16\n",
      " 165   2  33 143  14  20  11   4  86 273]\n",
      "568\n",
      "100\n",
      "[312 489  10  10   2  47  69   2  11   2  11   2 153  19   2 245   5   2\n",
      "  31   7  27 171 108  13 161 459  18  21   8  72   2   9 131  27   2   2\n",
      " 259   2  19  27 303 157  80 220 434 358  14   2 157   5 174  14  22   9\n",
      "   6   2  33   4 350   7  27   2   2  23 175   2 474   2 194 278   8  30\n",
      "   2   8  67  14  23   6   2 268 137  15  80 242 115   2  45  52   8 124\n",
      "  15  33 222  14 356  47  77   2  23 288]\n"
     ]
    }
   ],
   "source": [
    "from tensorflow.keras.preprocessing.sequence import pad_sequences\n",
    "\n",
    "train_seq = pad_sequences(sub_data,maxlen=100)\n",
    "# 문장길이 218\n",
    "print(train_seq[0])\n",
    "print(len(sub_data[0]))\n",
    "print(len(train_seq[0]))\n",
    "print(train_seq[5])"
   ]
  },
  {
   "cell_type": "code",
   "execution_count": null,
   "metadata": {},
   "outputs": [],
   "source": [
    "print(train_seq[1])\n"
   ]
  },
  {
   "cell_type": "code",
   "execution_count": null,
   "metadata": {},
   "outputs": [],
   "source": [
    "# train_oh = keras.utils.to_categorical(train_seq)\n",
    "# print(train_seq[0])\n",
    "# print(train_oh[0])"
   ]
  },
  {
   "cell_type": "code",
   "execution_count": 6,
   "metadata": {},
   "outputs": [],
   "source": [
    "test_seq = pad_sequences(val_data,maxlen=100)\n",
    "# test_oh = keras.utils.to_categorical(test_seq)\n",
    "# print(test_oh[0])"
   ]
  },
  {
   "cell_type": "code",
   "execution_count": 7,
   "metadata": {},
   "outputs": [
    {
     "name": "stderr",
     "output_type": "stream",
     "text": [
      "2022-07-19 10:39:07.904660: I tensorflow/core/common_runtime/pluggable_device/pluggable_device_factory.cc:305] Could not identify NUMA node of platform GPU ID 0, defaulting to 0. Your kernel may not have been built with NUMA support.\n",
      "2022-07-19 10:39:07.905364: I tensorflow/core/common_runtime/pluggable_device/pluggable_device_factory.cc:271] Created TensorFlow device (/job:localhost/replica:0/task:0/device:GPU:0 with 0 MB memory) -> physical PluggableDevice (device: 0, name: METAL, pci bus id: <undefined>)\n"
     ]
    },
    {
     "name": "stdout",
     "output_type": "stream",
     "text": [
      "Metal device set to: Apple M1\n",
      "\n",
      "systemMemory: 8.00 GB\n",
      "maxCacheSize: 2.67 GB\n",
      "\n",
      "Model: \"sequential\"\n",
      "_________________________________________________________________\n",
      " Layer (type)                Output Shape              Param #   \n",
      "=================================================================\n",
      " embedding (Embedding)       (None, 100, 16)           8000      \n",
      "                                                                 \n",
      " lstm (LSTM)                 (None, 8)                 800       \n",
      "                                                                 \n",
      " dense (Dense)               (None, 1)                 9         \n",
      "                                                                 \n",
      "=================================================================\n",
      "Total params: 8,809\n",
      "Trainable params: 8,809\n",
      "Non-trainable params: 0\n",
      "_________________________________________________________________\n"
     ]
    }
   ],
   "source": [
    "# 순환 신경망 선언\n",
    "model = keras.Sequential()\n",
    "# 순환 신경망\n",
    "model.add(keras.layers.Embedding(500,16,input_length=100))\n",
    "# GRU\n",
    "\n",
    "# model.add(keras.layers.GRU(8,dropout=0.3))\n",
    "\n",
    "# LSTM\n",
    "model.add(keras.layers.LSTM(8,dropout=0.3),return_sequences=True)\n",
    "model.add(keras.layers.LSTM(8,dropout=0.3))\n",
    "# model.add(keras.layers.SimpleRNN(8,input_shape=(100,500)))\n",
    "model.add(keras.layers.Dense(1,activation='sigmoid'))\n",
    "\n",
    "model.summary()\n"
   ]
  },
  {
   "cell_type": "code",
   "execution_count": 8,
   "metadata": {},
   "outputs": [],
   "source": [
    "# 순환 신경망 설정 adam\n",
    "rmsprop = keras.optimizers.RMSprop(learning_rate=1e-4)\n",
    "model.compile(optimizer=rmsprop,loss='binary_crossentropy',metrics=['accuracy'])"
   ]
  },
  {
   "cell_type": "code",
   "execution_count": 10,
   "metadata": {},
   "outputs": [
    {
     "name": "stdout",
     "output_type": "stream",
     "text": [
      "Epoch 1/10\n"
     ]
    },
    {
     "name": "stderr",
     "output_type": "stream",
     "text": [
      "2022-07-19 10:42:47.504222: I tensorflow/core/grappler/optimizers/custom_graph_optimizer_registry.cc:113] Plugin optimizer for device_type GPU is enabled.\n"
     ]
    },
    {
     "name": "stdout",
     "output_type": "stream",
     "text": [
      "292/293 [============================>.] - ETA: 0s - loss: 0.4570 - accuracy: 0.7994"
     ]
    },
    {
     "name": "stderr",
     "output_type": "stream",
     "text": [
      "2022-07-19 10:42:55.404700: I tensorflow/core/grappler/optimizers/custom_graph_optimizer_registry.cc:113] Plugin optimizer for device_type GPU is enabled.\n"
     ]
    },
    {
     "name": "stdout",
     "output_type": "stream",
     "text": [
      "293/293 [==============================] - 8s 28ms/step - loss: 0.4569 - accuracy: 0.7995 - val_loss: 0.4673 - val_accuracy: 0.7875\n",
      "Epoch 2/10\n",
      "293/293 [==============================] - 8s 27ms/step - loss: 0.4500 - accuracy: 0.8018 - val_loss: 0.4624 - val_accuracy: 0.7888\n",
      "Epoch 3/10\n",
      "293/293 [==============================] - 8s 27ms/step - loss: 0.4438 - accuracy: 0.8055 - val_loss: 0.4582 - val_accuracy: 0.7915\n",
      "Epoch 4/10\n",
      "293/293 [==============================] - 8s 27ms/step - loss: 0.4397 - accuracy: 0.8058 - val_loss: 0.4583 - val_accuracy: 0.7848\n",
      "Epoch 5/10\n",
      "293/293 [==============================] - 8s 26ms/step - loss: 0.4356 - accuracy: 0.8067 - val_loss: 0.4553 - val_accuracy: 0.7894\n",
      "Epoch 6/10\n",
      "293/293 [==============================] - 8s 26ms/step - loss: 0.4325 - accuracy: 0.8101 - val_loss: 0.4498 - val_accuracy: 0.7930\n",
      "Epoch 7/10\n",
      "293/293 [==============================] - 8s 26ms/step - loss: 0.4296 - accuracy: 0.8108 - val_loss: 0.4473 - val_accuracy: 0.7931\n",
      "Epoch 8/10\n",
      "293/293 [==============================] - 8s 27ms/step - loss: 0.4266 - accuracy: 0.8126 - val_loss: 0.4477 - val_accuracy: 0.7915\n",
      "Epoch 9/10\n",
      "293/293 [==============================] - 8s 26ms/step - loss: 0.4244 - accuracy: 0.8122 - val_loss: 0.4479 - val_accuracy: 0.7946\n",
      "Epoch 10/10\n",
      "293/293 [==============================] - 8s 27ms/step - loss: 0.4226 - accuracy: 0.8134 - val_loss: 0.4434 - val_accuracy: 0.7922\n"
     ]
    }
   ],
   "source": [
    "# 콜백 - 20번돌고, 가장 낮은 손실률을 저장\n",
    "import tensorflow as tf\n",
    "check_cb = keras.callbacks.ModelCheckpoint('best-rnn.h5',save_best_only=True)\n",
    "early_cb = keras.callbacks.EarlyStopping(patience=3,restore_best_weights=True)\n",
    "with tf.device(\"/device:CPU:0\"):\n",
    "    history = model.fit(train_seq,sub_label,epochs=10,batch_size=64,\\\n",
    "        validation_data=(test_seq,val_label),callbacks=[check_cb,early_cb])\n",
    "# history = model.fit(train_oh,sub_label,epochs=100,batch_size=64,\\\n",
    "#     validation_data=(test_oh,val_label),callbacks=[check_cb,early_cb])"
   ]
  },
  {
   "cell_type": "code",
   "execution_count": 12,
   "metadata": {},
   "outputs": [
    {
     "data": {
      "image/png": "[encoded data removed]",
      "text/plain": [
       "<Figure size 432x288 with 1 Axes>"
      ]
     },
     "metadata": {
      "needs_background": "light"
     },
     "output_type": "display_data"
    }
   ],
   "source": [
    "# 그래프 그리기\n",
    "plt.plot(history.history['loss'])\n",
    "plt.plot(history.history['val_loss'])\n",
    "plt.xlabel('epoch')\n",
    "plt.ylabel('loss')\n",
    "plt.legend(['train','test'])\n",
    "plt.show()\n"
   ]
  },
  {
   "cell_type": "code",
   "execution_count": 11,
   "metadata": {},
   "outputs": [
    {
     "name": "stdout",
     "output_type": "stream",
     "text": [
      "196/196 [==============================] - 3s 16ms/step - loss: 0.4434 - accuracy: 0.7922\n",
      "loss, accuracy :  [0.44339582324028015, 0.7921600341796875]\n"
     ]
    }
   ],
   "source": [
    "# 정확도\n",
    "score = model.evaluate(test_seq,val_label)\n",
    "print(\"loss, accuracy : \",score)\n"
   ]
  }
 ],
 "metadata": {
  "interpreter": {
   "hash": "52ee2977380704a66854748a73250e0671a9318bd5b3fd45a3df9f851ae61629"
  },
  "kernelspec": {
   "display_name": "Python 3.8.13 ('tf')",
   "language": "python",
   "name": "python3"
  },
  "language_info": {
   "codemirror_mode": {
    "name": "ipython",
    "version": 3
   },
   "file_extension": ".py",
   "mimetype": "text/x-python",
   "name": "python",
   "nbconvert_exporter": "python",
   "pygments_lexer": "ipython3",
   "version": "3.8.13"
  },
  "orig_nbformat": 4
 },
 "nbformat": 4,
 "nbformat_minor": 2
}
