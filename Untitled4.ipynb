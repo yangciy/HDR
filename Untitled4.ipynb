{
  "nbformat": 4,
  "nbformat_minor": 0,
  "metadata": {
    "colab": {
      "name": "Untitled4.ipynb",
      "provenance": [],
      "authorship_tag": "ABX9TyPnSUXMGITQLBvsQEiP5FV8",
      "include_colab_link": true
    },
    "kernelspec": {
      "name": "python3",
      "display_name": "Python 3"
    },
    "language_info": {
      "name": "python"
    },
    "accelerator": "GPU",
    "gpuClass": "standard"
  },
  "cells": [
    {
      "cell_type": "markdown",
      "metadata": {
        "id": "view-in-github",
        "colab_type": "text"
      },
      "source": [
        "<a href=\"https://colab.research.google.com/github/yangciy/HDR/blob/master/Untitled4.ipynb\" target=\"_parent\"><img src=\"https://colab.research.google.com/assets/colab-badge.svg\" alt=\"Open In Colab\"/></a>"
      ]
    },
    {
      "cell_type": "code",
      "execution_count": 1,
      "metadata": {
        "id": "r22Y9qwZsNR4"
      },
      "outputs": [],
      "source": [
        "import sklearn\n",
        "from sklearn.linear_model import SGDClassifier\n",
        "import numpy as np\n",
        "import pandas as pd\n",
        "import matplotlib.pyplot as plt\n",
        "from sklearn.model_selection import train_test_split\n",
        "from tensorflow import keras\n",
        "\n",
        "\n",
        "\n"
      ]
    },
    {
      "cell_type": "code",
      "source": [
        "(train_x,train_y),(test_x,test_y)= keras.datasets.fashion_mnist.load_data()\n",
        "\n",
        "train_s= train_x/255.0\n",
        "test_s=test_x/255.0\n",
        "\n"
      ],
      "metadata": {
        "colab": {
          "base_uri": "https://localhost:8080/"
        },
        "id": "gqi4_5SDsN95",
        "outputId": "39e22839-5e1f-4473-a2bd-51baf6755a74"
      },
      "execution_count": 2,
      "outputs": [
        {
          "output_type": "stream",
          "name": "stdout",
          "text": [
            "Downloading data from https://storage.googleapis.com/tensorflow/tf-keras-datasets/train-labels-idx1-ubyte.gz\n",
            "32768/29515 [=================================] - 0s 0us/step\n",
            "40960/29515 [=========================================] - 0s 0us/step\n",
            "Downloading data from https://storage.googleapis.com/tensorflow/tf-keras-datasets/train-images-idx3-ubyte.gz\n",
            "26427392/26421880 [==============================] - 0s 0us/step\n",
            "26435584/26421880 [==============================] - 0s 0us/step\n",
            "Downloading data from https://storage.googleapis.com/tensorflow/tf-keras-datasets/t10k-labels-idx1-ubyte.gz\n",
            "16384/5148 [===============================================================================================] - 0s 0us/step\n",
            "Downloading data from https://storage.googleapis.com/tensorflow/tf-keras-datasets/t10k-images-idx3-ubyte.gz\n",
            "4423680/4422102 [==============================] - 0s 0us/step\n",
            "4431872/4422102 [==============================] - 0s 0us/step\n"
          ]
        }
      ]
    },
    {
      "cell_type": "code",
      "source": [
        "sub_s,val_s,sub_y,val_y=train_test_split(train_s,train_y)"
      ],
      "metadata": {
        "id": "Pul1BfGw3Gh3"
      },
      "execution_count": 25,
      "outputs": []
    },
    {
      "cell_type": "code",
      "source": [
        "\n",
        "model = keras.Sequential()\n",
        "model.add(keras.layers.Flatten(input_shape=(28,28)))\n",
        "model.add(keras.layers.Dense(100,activation='relu'))\n",
        "model.add(keras.layers.Dropout(0.3))\n",
        "model.add(keras.layers.Dense(10,activation='softmax'))\n"
      ],
      "metadata": {
        "id": "38NG-vT8sOAf"
      },
      "execution_count": 14,
      "outputs": []
    },
    {
      "cell_type": "code",
      "source": [
        "model.compile(optimizer='adam',loss='sparse_categorical_crossentropy',metrics='accuracy')\n",
        "history=model.fit(sub_s,sub_y,epochs=20,validation_data=(val_s,val_y))\n",
        "print(history.history['loss'])\n",
        "print(history.history['accuracy'])"
      ],
      "metadata": {
        "colab": {
          "base_uri": "https://localhost:8080/"
        },
        "id": "fbXLAwzzsOK7",
        "outputId": "33745f9e-99b5-49a5-e365-56128c2acf1e"
      },
      "execution_count": 26,
      "outputs": [
        {
          "output_type": "stream",
          "name": "stdout",
          "text": [
            "Epoch 1/20\n",
            "1407/1407 [==============================] - 5s 3ms/step - loss: 0.2537 - accuracy: 0.9030 - val_loss: 0.2084 - val_accuracy: 0.9213\n",
            "Epoch 2/20\n",
            "1407/1407 [==============================] - 5s 3ms/step - loss: 0.2468 - accuracy: 0.9059 - val_loss: 0.2055 - val_accuracy: 0.9213\n",
            "Epoch 3/20\n",
            "1407/1407 [==============================] - 4s 3ms/step - loss: 0.2466 - accuracy: 0.9061 - val_loss: 0.2069 - val_accuracy: 0.9223\n",
            "Epoch 4/20\n",
            "1407/1407 [==============================] - 5s 3ms/step - loss: 0.2430 - accuracy: 0.9075 - val_loss: 0.2145 - val_accuracy: 0.9185\n",
            "Epoch 5/20\n",
            "1407/1407 [==============================] - 4s 3ms/step - loss: 0.2397 - accuracy: 0.9096 - val_loss: 0.2176 - val_accuracy: 0.9164\n",
            "Epoch 6/20\n",
            "1407/1407 [==============================] - 4s 3ms/step - loss: 0.2423 - accuracy: 0.9068 - val_loss: 0.2169 - val_accuracy: 0.9182\n",
            "Epoch 7/20\n",
            "1407/1407 [==============================] - 4s 3ms/step - loss: 0.2376 - accuracy: 0.9092 - val_loss: 0.2286 - val_accuracy: 0.9151\n",
            "Epoch 8/20\n",
            "1407/1407 [==============================] - 5s 3ms/step - loss: 0.2352 - accuracy: 0.9088 - val_loss: 0.2276 - val_accuracy: 0.9145\n",
            "Epoch 9/20\n",
            "1407/1407 [==============================] - 4s 3ms/step - loss: 0.2358 - accuracy: 0.9093 - val_loss: 0.2186 - val_accuracy: 0.9161\n",
            "Epoch 10/20\n",
            "1407/1407 [==============================] - 4s 3ms/step - loss: 0.2340 - accuracy: 0.9101 - val_loss: 0.2211 - val_accuracy: 0.9158\n",
            "Epoch 11/20\n",
            "1407/1407 [==============================] - 4s 3ms/step - loss: 0.2284 - accuracy: 0.9132 - val_loss: 0.2290 - val_accuracy: 0.9123\n",
            "Epoch 12/20\n",
            "1407/1407 [==============================] - 4s 3ms/step - loss: 0.2294 - accuracy: 0.9115 - val_loss: 0.2184 - val_accuracy: 0.9203\n",
            "Epoch 13/20\n",
            "1407/1407 [==============================] - 4s 3ms/step - loss: 0.2259 - accuracy: 0.9140 - val_loss: 0.2391 - val_accuracy: 0.9118\n",
            "Epoch 14/20\n",
            "1407/1407 [==============================] - 4s 3ms/step - loss: 0.2278 - accuracy: 0.9129 - val_loss: 0.2383 - val_accuracy: 0.9104\n",
            "Epoch 15/20\n",
            "1407/1407 [==============================] - 4s 3ms/step - loss: 0.2252 - accuracy: 0.9138 - val_loss: 0.2224 - val_accuracy: 0.9165\n",
            "Epoch 16/20\n",
            "1407/1407 [==============================] - 4s 3ms/step - loss: 0.2229 - accuracy: 0.9138 - val_loss: 0.2333 - val_accuracy: 0.9147\n",
            "Epoch 17/20\n",
            "1407/1407 [==============================] - 5s 3ms/step - loss: 0.2216 - accuracy: 0.9152 - val_loss: 0.2371 - val_accuracy: 0.9117\n",
            "Epoch 18/20\n",
            "1407/1407 [==============================] - 5s 3ms/step - loss: 0.2226 - accuracy: 0.9145 - val_loss: 0.2286 - val_accuracy: 0.9163\n",
            "Epoch 19/20\n",
            "1407/1407 [==============================] - 5s 3ms/step - loss: 0.2206 - accuracy: 0.9131 - val_loss: 0.2511 - val_accuracy: 0.9095\n",
            "Epoch 20/20\n",
            "1407/1407 [==============================] - 5s 3ms/step - loss: 0.2160 - accuracy: 0.9175 - val_loss: 0.2391 - val_accuracy: 0.9123\n",
            "[0.2536679208278656, 0.24682751297950745, 0.2465905398130417, 0.24302712082862854, 0.23968416452407837, 0.2423361986875534, 0.23763062059879303, 0.2352483570575714, 0.23580783605575562, 0.23396047949790955, 0.2283848077058792, 0.2293553650379181, 0.22589528560638428, 0.22775472700595856, 0.22521263360977173, 0.2229042500257492, 0.22163903713226318, 0.22262372076511383, 0.22056043148040771, 0.21603131294250488]\n",
            "[0.902999997138977, 0.9058666825294495, 0.9060888886451721, 0.9075111150741577, 0.909600019454956, 0.9068222045898438, 0.9091777801513672, 0.9088444709777832, 0.909333348274231, 0.9100888967514038, 0.9131777882575989, 0.911466658115387, 0.9140444397926331, 0.9128666520118713, 0.9138222336769104, 0.9138000011444092, 0.9151777625083923, 0.9144889116287231, 0.9130889177322388, 0.9175111055374146]\n"
          ]
        }
      ]
    },
    {
      "cell_type": "code",
      "source": [
        "history.history.keys()"
      ],
      "metadata": {
        "colab": {
          "base_uri": "https://localhost:8080/"
        },
        "id": "qOTEGB04tz_e",
        "outputId": "f437ecf8-24c0-4a40-d420-34cb63c2d5e1"
      },
      "execution_count": 19,
      "outputs": [
        {
          "output_type": "execute_result",
          "data": {
            "text/plain": [
              "dict_keys(['loss', 'accuracy', 'val_loss', 'val_accuracy'])"
            ]
          },
          "metadata": {},
          "execution_count": 19
        }
      ]
    },
    {
      "cell_type": "code",
      "source": [
        "# plt.plot(history.history['loss'])\n",
        "plt.plot(history.history['val_loss'])\n",
        "# plt.plot(history.history['accuracy'])\n",
        "plt.plot(history.history['val_accuracy'])\n",
        "plt.xlabel('epoch')\n",
        "plt.ylabel('loss')\n",
        "plt.show()"
      ],
      "metadata": {
        "colab": {
          "base_uri": "https://localhost:8080/",
          "height": 279
        },
        "id": "LtvjAo4xsg3h",
        "outputId": "5a06ed81-691c-489d-c49f-762fcfd49379"
      },
      "execution_count": 27,
      "outputs": [
        {
          "output_type": "display_data",
          "data": {
            "text/plain": [
              "<Figure size 432x288 with 1 Axes>"
            ],
            "image/png": "[encoded data removed]"
          },
          "metadata": {
            "needs_background": "light"
          }
        }
      ]
    },
    {
      "cell_type": "code",
      "source": [
        "plt.plot(history.history['loss'])\n",
        "plt.plot(history.history['accuracy'])\n",
        "plt.xlabel('epoch')\n",
        "plt.ylabel('accuracy')\n",
        "plt.show()"
      ],
      "metadata": {
        "colab": {
          "base_uri": "https://localhost:8080/",
          "height": 279
        },
        "id": "GwjkT4WDsvVd",
        "outputId": "cedfd452-e758-481d-b51a-e01428b94bb7"
      },
      "execution_count": 28,
      "outputs": [
        {
          "output_type": "display_data",
          "data": {
            "text/plain": [
              "<Figure size 432x288 with 1 Axes>"
            ],
            "image/png": "[encoded data removed]"
          },
          "metadata": {
            "needs_background": "light"
          }
        }
      ]
    }
  ]
}