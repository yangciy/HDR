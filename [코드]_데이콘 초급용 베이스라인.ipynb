{
 "cells": [
  {
   "cell_type": "markdown",
   "metadata": {},
   "source": [
    "# Library Import"
   ]
  },
  {
   "cell_type": "code",
   "execution_count": 1,
   "metadata": {
    "ExecuteTime": {
     "end_time": "2021-02-10T05:24:27.161915Z",
     "start_time": "2021-02-10T05:24:27.150910Z"
    }
   },
   "outputs": [],
   "source": [
    "import pandas as pd\n",
    "import numpy as np\n",
    "import matplotlib.pyplot as plt\n",
    "import warnings\n",
    "warnings.filterwarnings(\"ignore\")\n",
    "\n",
    "from PIL import Image\n",
    "import os\n",
    "# import cv2\n",
    "\n",
    "from tqdm import tqdm\n",
    "import tensorflow as tf\n",
    "from tensorflow.keras.layers import Conv2D, MaxPooling2D, BatchNormalization, concatenate, Input, Flatten, Dense\n",
    "from tensorflow.keras import Model\n",
    "\n",
    "import warnings\n",
    "warnings.filterwarnings(\"ignore\")"
   ]
  },
  {
   "cell_type": "code",
   "execution_count": 2,
   "metadata": {
    "ExecuteTime": {
     "end_time": "2021-02-10T05:24:40.376992Z",
     "start_time": "2021-02-10T05:24:40.370994Z"
    }
   },
   "outputs": [],
   "source": [
    "#폴더 경로를 설정해줍니다.\n",
    "os.chdir('/Users/uk/Desktop/1. open') "
   ]
  },
  {
   "cell_type": "code",
   "execution_count": 3,
   "metadata": {
    "ExecuteTime": {
     "end_time": "2021-02-10T05:24:41.589093Z",
     "start_time": "2021-02-10T05:24:41.578108Z"
    }
   },
   "outputs": [
    {
     "data": {
      "text/plain": [
       "['.DS_Store',\n",
       " '.train_df.csv.icloud',\n",
       " 'train_imgs',\n",
       " 'test_imgs',\n",
       " 'sample_submission.csv']"
      ]
     },
     "execution_count": 3,
     "metadata": {},
     "output_type": "execute_result"
    }
   ],
   "source": [
    "#제공된 데이터들의 리스트를 확인합니다.\n",
    "os.listdir()"
   ]
  },
  {
   "cell_type": "markdown",
   "metadata": {},
   "source": []
  },
  {
   "cell_type": "markdown",
   "metadata": {},
   "source": []
  },
  {
   "cell_type": "markdown",
   "metadata": {},
   "source": [
    "# 데이터 불러오고 살펴보기 "
   ]
  },
  {
   "cell_type": "code",
   "execution_count": 4,
   "metadata": {
    "ExecuteTime": {
     "end_time": "2021-02-10T05:28:37.058100Z",
     "start_time": "2021-02-10T05:28:36.916089Z"
    }
   },
   "outputs": [
    {
     "ename": "FileNotFoundError",
     "evalue": "[Errno 2] No such file or directory: 'train_df.csv'",
     "output_type": "error",
     "traceback": [
      "\u001b[0;31m---------------------------------------------------------------------------\u001b[0m",
      "\u001b[0;31mFileNotFoundError\u001b[0m                         Traceback (most recent call last)",
      "\u001b[1;32m/Users/uk/Desktop/HDR/[코드]_데이콘 초급용 베이스라인.ipynb Cell 8'\u001b[0m in \u001b[0;36m<cell line: 1>\u001b[0;34m()\u001b[0m\n\u001b[0;32m----> <a href='vscode-notebook-cell:/Users/uk/Desktop/HDR/%5B%EC%BD%94%EB%93%9C%5D_%EB%8D%B0%EC%9D%B4%EC%BD%98%20%EC%B4%88%EA%B8%89%EC%9A%A9%20%EB%B2%A0%EC%9D%B4%EC%8A%A4%EB%9D%BC%EC%9D%B8.ipynb#ch0000007?line=0'>1</a>\u001b[0m train \u001b[39m=\u001b[39m pd\u001b[39m.\u001b[39;49mread_csv(\u001b[39m'\u001b[39;49m\u001b[39mtrain_df.csv\u001b[39;49m\u001b[39m'\u001b[39;49m)\n\u001b[1;32m      <a href='vscode-notebook-cell:/Users/uk/Desktop/HDR/%5B%EC%BD%94%EB%93%9C%5D_%EB%8D%B0%EC%9D%B4%EC%BD%98%20%EC%B4%88%EA%B8%89%EC%9A%A9%20%EB%B2%A0%EC%9D%B4%EC%8A%A4%EB%9D%BC%EC%9D%B8.ipynb#ch0000007?line=1'>2</a>\u001b[0m submission \u001b[39m=\u001b[39m pd\u001b[39m.\u001b[39mread_csv(\u001b[39m'\u001b[39m\u001b[39msample_submission.csv\u001b[39m\u001b[39m'\u001b[39m)\n\u001b[1;32m      <a href='vscode-notebook-cell:/Users/uk/Desktop/HDR/%5B%EC%BD%94%EB%93%9C%5D_%EB%8D%B0%EC%9D%B4%EC%BD%98%20%EC%B4%88%EA%B8%89%EC%9A%A9%20%EB%B2%A0%EC%9D%B4%EC%8A%A4%EB%9D%BC%EC%9D%B8.ipynb#ch0000007?line=3'>4</a>\u001b[0m train\u001b[39m.\u001b[39mhead(\u001b[39m2\u001b[39m)\n",
      "File \u001b[0;32m/opt/homebrew/Caskroom/miniforge/base/envs/tf/lib/python3.8/site-packages/pandas/util/_decorators.py:311\u001b[0m, in \u001b[0;36mdeprecate_nonkeyword_arguments.<locals>.decorate.<locals>.wrapper\u001b[0;34m(*args, **kwargs)\u001b[0m\n\u001b[1;32m    <a href='file:///opt/homebrew/Caskroom/miniforge/base/envs/tf/lib/python3.8/site-packages/pandas/util/_decorators.py?line=304'>305</a>\u001b[0m \u001b[39mif\u001b[39;00m \u001b[39mlen\u001b[39m(args) \u001b[39m>\u001b[39m num_allow_args:\n\u001b[1;32m    <a href='file:///opt/homebrew/Caskroom/miniforge/base/envs/tf/lib/python3.8/site-packages/pandas/util/_decorators.py?line=305'>306</a>\u001b[0m     warnings\u001b[39m.\u001b[39mwarn(\n\u001b[1;32m    <a href='file:///opt/homebrew/Caskroom/miniforge/base/envs/tf/lib/python3.8/site-packages/pandas/util/_decorators.py?line=306'>307</a>\u001b[0m         msg\u001b[39m.\u001b[39mformat(arguments\u001b[39m=\u001b[39marguments),\n\u001b[1;32m    <a href='file:///opt/homebrew/Caskroom/miniforge/base/envs/tf/lib/python3.8/site-packages/pandas/util/_decorators.py?line=307'>308</a>\u001b[0m         \u001b[39mFutureWarning\u001b[39;00m,\n\u001b[1;32m    <a href='file:///opt/homebrew/Caskroom/miniforge/base/envs/tf/lib/python3.8/site-packages/pandas/util/_decorators.py?line=308'>309</a>\u001b[0m         stacklevel\u001b[39m=\u001b[39mstacklevel,\n\u001b[1;32m    <a href='file:///opt/homebrew/Caskroom/miniforge/base/envs/tf/lib/python3.8/site-packages/pandas/util/_decorators.py?line=309'>310</a>\u001b[0m     )\n\u001b[0;32m--> <a href='file:///opt/homebrew/Caskroom/miniforge/base/envs/tf/lib/python3.8/site-packages/pandas/util/_decorators.py?line=310'>311</a>\u001b[0m \u001b[39mreturn\u001b[39;00m func(\u001b[39m*\u001b[39;49margs, \u001b[39m*\u001b[39;49m\u001b[39m*\u001b[39;49mkwargs)\n",
      "File \u001b[0;32m/opt/homebrew/Caskroom/miniforge/base/envs/tf/lib/python3.8/site-packages/pandas/io/parsers/readers.py:680\u001b[0m, in \u001b[0;36mread_csv\u001b[0;34m(filepath_or_buffer, sep, delimiter, header, names, index_col, usecols, squeeze, prefix, mangle_dupe_cols, dtype, engine, converters, true_values, false_values, skipinitialspace, skiprows, skipfooter, nrows, na_values, keep_default_na, na_filter, verbose, skip_blank_lines, parse_dates, infer_datetime_format, keep_date_col, date_parser, dayfirst, cache_dates, iterator, chunksize, compression, thousands, decimal, lineterminator, quotechar, quoting, doublequote, escapechar, comment, encoding, encoding_errors, dialect, error_bad_lines, warn_bad_lines, on_bad_lines, delim_whitespace, low_memory, memory_map, float_precision, storage_options)\u001b[0m\n\u001b[1;32m    <a href='file:///opt/homebrew/Caskroom/miniforge/base/envs/tf/lib/python3.8/site-packages/pandas/io/parsers/readers.py?line=664'>665</a>\u001b[0m kwds_defaults \u001b[39m=\u001b[39m _refine_defaults_read(\n\u001b[1;32m    <a href='file:///opt/homebrew/Caskroom/miniforge/base/envs/tf/lib/python3.8/site-packages/pandas/io/parsers/readers.py?line=665'>666</a>\u001b[0m     dialect,\n\u001b[1;32m    <a href='file:///opt/homebrew/Caskroom/miniforge/base/envs/tf/lib/python3.8/site-packages/pandas/io/parsers/readers.py?line=666'>667</a>\u001b[0m     delimiter,\n\u001b[0;32m   (...)\u001b[0m\n\u001b[1;32m    <a href='file:///opt/homebrew/Caskroom/miniforge/base/envs/tf/lib/python3.8/site-packages/pandas/io/parsers/readers.py?line=675'>676</a>\u001b[0m     defaults\u001b[39m=\u001b[39m{\u001b[39m\"\u001b[39m\u001b[39mdelimiter\u001b[39m\u001b[39m\"\u001b[39m: \u001b[39m\"\u001b[39m\u001b[39m,\u001b[39m\u001b[39m\"\u001b[39m},\n\u001b[1;32m    <a href='file:///opt/homebrew/Caskroom/miniforge/base/envs/tf/lib/python3.8/site-packages/pandas/io/parsers/readers.py?line=676'>677</a>\u001b[0m )\n\u001b[1;32m    <a href='file:///opt/homebrew/Caskroom/miniforge/base/envs/tf/lib/python3.8/site-packages/pandas/io/parsers/readers.py?line=677'>678</a>\u001b[0m kwds\u001b[39m.\u001b[39mupdate(kwds_defaults)\n\u001b[0;32m--> <a href='file:///opt/homebrew/Caskroom/miniforge/base/envs/tf/lib/python3.8/site-packages/pandas/io/parsers/readers.py?line=679'>680</a>\u001b[0m \u001b[39mreturn\u001b[39;00m _read(filepath_or_buffer, kwds)\n",
      "File \u001b[0;32m/opt/homebrew/Caskroom/miniforge/base/envs/tf/lib/python3.8/site-packages/pandas/io/parsers/readers.py:575\u001b[0m, in \u001b[0;36m_read\u001b[0;34m(filepath_or_buffer, kwds)\u001b[0m\n\u001b[1;32m    <a href='file:///opt/homebrew/Caskroom/miniforge/base/envs/tf/lib/python3.8/site-packages/pandas/io/parsers/readers.py?line=571'>572</a>\u001b[0m _validate_names(kwds\u001b[39m.\u001b[39mget(\u001b[39m\"\u001b[39m\u001b[39mnames\u001b[39m\u001b[39m\"\u001b[39m, \u001b[39mNone\u001b[39;00m))\n\u001b[1;32m    <a href='file:///opt/homebrew/Caskroom/miniforge/base/envs/tf/lib/python3.8/site-packages/pandas/io/parsers/readers.py?line=573'>574</a>\u001b[0m \u001b[39m# Create the parser.\u001b[39;00m\n\u001b[0;32m--> <a href='file:///opt/homebrew/Caskroom/miniforge/base/envs/tf/lib/python3.8/site-packages/pandas/io/parsers/readers.py?line=574'>575</a>\u001b[0m parser \u001b[39m=\u001b[39m TextFileReader(filepath_or_buffer, \u001b[39m*\u001b[39;49m\u001b[39m*\u001b[39;49mkwds)\n\u001b[1;32m    <a href='file:///opt/homebrew/Caskroom/miniforge/base/envs/tf/lib/python3.8/site-packages/pandas/io/parsers/readers.py?line=576'>577</a>\u001b[0m \u001b[39mif\u001b[39;00m chunksize \u001b[39mor\u001b[39;00m iterator:\n\u001b[1;32m    <a href='file:///opt/homebrew/Caskroom/miniforge/base/envs/tf/lib/python3.8/site-packages/pandas/io/parsers/readers.py?line=577'>578</a>\u001b[0m     \u001b[39mreturn\u001b[39;00m parser\n",
      "File \u001b[0;32m/opt/homebrew/Caskroom/miniforge/base/envs/tf/lib/python3.8/site-packages/pandas/io/parsers/readers.py:934\u001b[0m, in \u001b[0;36mTextFileReader.__init__\u001b[0;34m(self, f, engine, **kwds)\u001b[0m\n\u001b[1;32m    <a href='file:///opt/homebrew/Caskroom/miniforge/base/envs/tf/lib/python3.8/site-packages/pandas/io/parsers/readers.py?line=930'>931</a>\u001b[0m     \u001b[39mself\u001b[39m\u001b[39m.\u001b[39moptions[\u001b[39m\"\u001b[39m\u001b[39mhas_index_names\u001b[39m\u001b[39m\"\u001b[39m] \u001b[39m=\u001b[39m kwds[\u001b[39m\"\u001b[39m\u001b[39mhas_index_names\u001b[39m\u001b[39m\"\u001b[39m]\n\u001b[1;32m    <a href='file:///opt/homebrew/Caskroom/miniforge/base/envs/tf/lib/python3.8/site-packages/pandas/io/parsers/readers.py?line=932'>933</a>\u001b[0m \u001b[39mself\u001b[39m\u001b[39m.\u001b[39mhandles: IOHandles \u001b[39m|\u001b[39m \u001b[39mNone\u001b[39;00m \u001b[39m=\u001b[39m \u001b[39mNone\u001b[39;00m\n\u001b[0;32m--> <a href='file:///opt/homebrew/Caskroom/miniforge/base/envs/tf/lib/python3.8/site-packages/pandas/io/parsers/readers.py?line=933'>934</a>\u001b[0m \u001b[39mself\u001b[39m\u001b[39m.\u001b[39m_engine \u001b[39m=\u001b[39m \u001b[39mself\u001b[39;49m\u001b[39m.\u001b[39;49m_make_engine(f, \u001b[39mself\u001b[39;49m\u001b[39m.\u001b[39;49mengine)\n",
      "File \u001b[0;32m/opt/homebrew/Caskroom/miniforge/base/envs/tf/lib/python3.8/site-packages/pandas/io/parsers/readers.py:1218\u001b[0m, in \u001b[0;36mTextFileReader._make_engine\u001b[0;34m(self, f, engine)\u001b[0m\n\u001b[1;32m   <a href='file:///opt/homebrew/Caskroom/miniforge/base/envs/tf/lib/python3.8/site-packages/pandas/io/parsers/readers.py?line=1213'>1214</a>\u001b[0m     mode \u001b[39m=\u001b[39m \u001b[39m\"\u001b[39m\u001b[39mrb\u001b[39m\u001b[39m\"\u001b[39m\n\u001b[1;32m   <a href='file:///opt/homebrew/Caskroom/miniforge/base/envs/tf/lib/python3.8/site-packages/pandas/io/parsers/readers.py?line=1214'>1215</a>\u001b[0m \u001b[39m# error: No overload variant of \"get_handle\" matches argument types\u001b[39;00m\n\u001b[1;32m   <a href='file:///opt/homebrew/Caskroom/miniforge/base/envs/tf/lib/python3.8/site-packages/pandas/io/parsers/readers.py?line=1215'>1216</a>\u001b[0m \u001b[39m# \"Union[str, PathLike[str], ReadCsvBuffer[bytes], ReadCsvBuffer[str]]\"\u001b[39;00m\n\u001b[1;32m   <a href='file:///opt/homebrew/Caskroom/miniforge/base/envs/tf/lib/python3.8/site-packages/pandas/io/parsers/readers.py?line=1216'>1217</a>\u001b[0m \u001b[39m# , \"str\", \"bool\", \"Any\", \"Any\", \"Any\", \"Any\", \"Any\"\u001b[39;00m\n\u001b[0;32m-> <a href='file:///opt/homebrew/Caskroom/miniforge/base/envs/tf/lib/python3.8/site-packages/pandas/io/parsers/readers.py?line=1217'>1218</a>\u001b[0m \u001b[39mself\u001b[39m\u001b[39m.\u001b[39mhandles \u001b[39m=\u001b[39m get_handle(  \u001b[39m# type: ignore[call-overload]\u001b[39;49;00m\n\u001b[1;32m   <a href='file:///opt/homebrew/Caskroom/miniforge/base/envs/tf/lib/python3.8/site-packages/pandas/io/parsers/readers.py?line=1218'>1219</a>\u001b[0m     f,\n\u001b[1;32m   <a href='file:///opt/homebrew/Caskroom/miniforge/base/envs/tf/lib/python3.8/site-packages/pandas/io/parsers/readers.py?line=1219'>1220</a>\u001b[0m     mode,\n\u001b[1;32m   <a href='file:///opt/homebrew/Caskroom/miniforge/base/envs/tf/lib/python3.8/site-packages/pandas/io/parsers/readers.py?line=1220'>1221</a>\u001b[0m     encoding\u001b[39m=\u001b[39;49m\u001b[39mself\u001b[39;49m\u001b[39m.\u001b[39;49moptions\u001b[39m.\u001b[39;49mget(\u001b[39m\"\u001b[39;49m\u001b[39mencoding\u001b[39;49m\u001b[39m\"\u001b[39;49m, \u001b[39mNone\u001b[39;49;00m),\n\u001b[1;32m   <a href='file:///opt/homebrew/Caskroom/miniforge/base/envs/tf/lib/python3.8/site-packages/pandas/io/parsers/readers.py?line=1221'>1222</a>\u001b[0m     compression\u001b[39m=\u001b[39;49m\u001b[39mself\u001b[39;49m\u001b[39m.\u001b[39;49moptions\u001b[39m.\u001b[39;49mget(\u001b[39m\"\u001b[39;49m\u001b[39mcompression\u001b[39;49m\u001b[39m\"\u001b[39;49m, \u001b[39mNone\u001b[39;49;00m),\n\u001b[1;32m   <a href='file:///opt/homebrew/Caskroom/miniforge/base/envs/tf/lib/python3.8/site-packages/pandas/io/parsers/readers.py?line=1222'>1223</a>\u001b[0m     memory_map\u001b[39m=\u001b[39;49m\u001b[39mself\u001b[39;49m\u001b[39m.\u001b[39;49moptions\u001b[39m.\u001b[39;49mget(\u001b[39m\"\u001b[39;49m\u001b[39mmemory_map\u001b[39;49m\u001b[39m\"\u001b[39;49m, \u001b[39mFalse\u001b[39;49;00m),\n\u001b[1;32m   <a href='file:///opt/homebrew/Caskroom/miniforge/base/envs/tf/lib/python3.8/site-packages/pandas/io/parsers/readers.py?line=1223'>1224</a>\u001b[0m     is_text\u001b[39m=\u001b[39;49mis_text,\n\u001b[1;32m   <a href='file:///opt/homebrew/Caskroom/miniforge/base/envs/tf/lib/python3.8/site-packages/pandas/io/parsers/readers.py?line=1224'>1225</a>\u001b[0m     errors\u001b[39m=\u001b[39;49m\u001b[39mself\u001b[39;49m\u001b[39m.\u001b[39;49moptions\u001b[39m.\u001b[39;49mget(\u001b[39m\"\u001b[39;49m\u001b[39mencoding_errors\u001b[39;49m\u001b[39m\"\u001b[39;49m, \u001b[39m\"\u001b[39;49m\u001b[39mstrict\u001b[39;49m\u001b[39m\"\u001b[39;49m),\n\u001b[1;32m   <a href='file:///opt/homebrew/Caskroom/miniforge/base/envs/tf/lib/python3.8/site-packages/pandas/io/parsers/readers.py?line=1225'>1226</a>\u001b[0m     storage_options\u001b[39m=\u001b[39;49m\u001b[39mself\u001b[39;49m\u001b[39m.\u001b[39;49moptions\u001b[39m.\u001b[39;49mget(\u001b[39m\"\u001b[39;49m\u001b[39mstorage_options\u001b[39;49m\u001b[39m\"\u001b[39;49m, \u001b[39mNone\u001b[39;49;00m),\n\u001b[1;32m   <a href='file:///opt/homebrew/Caskroom/miniforge/base/envs/tf/lib/python3.8/site-packages/pandas/io/parsers/readers.py?line=1226'>1227</a>\u001b[0m )\n\u001b[1;32m   <a href='file:///opt/homebrew/Caskroom/miniforge/base/envs/tf/lib/python3.8/site-packages/pandas/io/parsers/readers.py?line=1227'>1228</a>\u001b[0m \u001b[39massert\u001b[39;00m \u001b[39mself\u001b[39m\u001b[39m.\u001b[39mhandles \u001b[39mis\u001b[39;00m \u001b[39mnot\u001b[39;00m \u001b[39mNone\u001b[39;00m\n\u001b[1;32m   <a href='file:///opt/homebrew/Caskroom/miniforge/base/envs/tf/lib/python3.8/site-packages/pandas/io/parsers/readers.py?line=1228'>1229</a>\u001b[0m f \u001b[39m=\u001b[39m \u001b[39mself\u001b[39m\u001b[39m.\u001b[39mhandles\u001b[39m.\u001b[39mhandle\n",
      "File \u001b[0;32m/opt/homebrew/Caskroom/miniforge/base/envs/tf/lib/python3.8/site-packages/pandas/io/common.py:786\u001b[0m, in \u001b[0;36mget_handle\u001b[0;34m(path_or_buf, mode, encoding, compression, memory_map, is_text, errors, storage_options)\u001b[0m\n\u001b[1;32m    <a href='file:///opt/homebrew/Caskroom/miniforge/base/envs/tf/lib/python3.8/site-packages/pandas/io/common.py?line=780'>781</a>\u001b[0m \u001b[39melif\u001b[39;00m \u001b[39misinstance\u001b[39m(handle, \u001b[39mstr\u001b[39m):\n\u001b[1;32m    <a href='file:///opt/homebrew/Caskroom/miniforge/base/envs/tf/lib/python3.8/site-packages/pandas/io/common.py?line=781'>782</a>\u001b[0m     \u001b[39m# Check whether the filename is to be opened in binary mode.\u001b[39;00m\n\u001b[1;32m    <a href='file:///opt/homebrew/Caskroom/miniforge/base/envs/tf/lib/python3.8/site-packages/pandas/io/common.py?line=782'>783</a>\u001b[0m     \u001b[39m# Binary mode does not support 'encoding' and 'newline'.\u001b[39;00m\n\u001b[1;32m    <a href='file:///opt/homebrew/Caskroom/miniforge/base/envs/tf/lib/python3.8/site-packages/pandas/io/common.py?line=783'>784</a>\u001b[0m     \u001b[39mif\u001b[39;00m ioargs\u001b[39m.\u001b[39mencoding \u001b[39mand\u001b[39;00m \u001b[39m\"\u001b[39m\u001b[39mb\u001b[39m\u001b[39m\"\u001b[39m \u001b[39mnot\u001b[39;00m \u001b[39min\u001b[39;00m ioargs\u001b[39m.\u001b[39mmode:\n\u001b[1;32m    <a href='file:///opt/homebrew/Caskroom/miniforge/base/envs/tf/lib/python3.8/site-packages/pandas/io/common.py?line=784'>785</a>\u001b[0m         \u001b[39m# Encoding\u001b[39;00m\n\u001b[0;32m--> <a href='file:///opt/homebrew/Caskroom/miniforge/base/envs/tf/lib/python3.8/site-packages/pandas/io/common.py?line=785'>786</a>\u001b[0m         handle \u001b[39m=\u001b[39m \u001b[39mopen\u001b[39;49m(\n\u001b[1;32m    <a href='file:///opt/homebrew/Caskroom/miniforge/base/envs/tf/lib/python3.8/site-packages/pandas/io/common.py?line=786'>787</a>\u001b[0m             handle,\n\u001b[1;32m    <a href='file:///opt/homebrew/Caskroom/miniforge/base/envs/tf/lib/python3.8/site-packages/pandas/io/common.py?line=787'>788</a>\u001b[0m             ioargs\u001b[39m.\u001b[39;49mmode,\n\u001b[1;32m    <a href='file:///opt/homebrew/Caskroom/miniforge/base/envs/tf/lib/python3.8/site-packages/pandas/io/common.py?line=788'>789</a>\u001b[0m             encoding\u001b[39m=\u001b[39;49mioargs\u001b[39m.\u001b[39;49mencoding,\n\u001b[1;32m    <a href='file:///opt/homebrew/Caskroom/miniforge/base/envs/tf/lib/python3.8/site-packages/pandas/io/common.py?line=789'>790</a>\u001b[0m             errors\u001b[39m=\u001b[39;49merrors,\n\u001b[1;32m    <a href='file:///opt/homebrew/Caskroom/miniforge/base/envs/tf/lib/python3.8/site-packages/pandas/io/common.py?line=790'>791</a>\u001b[0m             newline\u001b[39m=\u001b[39;49m\u001b[39m\"\u001b[39;49m\u001b[39m\"\u001b[39;49m,\n\u001b[1;32m    <a href='file:///opt/homebrew/Caskroom/miniforge/base/envs/tf/lib/python3.8/site-packages/pandas/io/common.py?line=791'>792</a>\u001b[0m         )\n\u001b[1;32m    <a href='file:///opt/homebrew/Caskroom/miniforge/base/envs/tf/lib/python3.8/site-packages/pandas/io/common.py?line=792'>793</a>\u001b[0m     \u001b[39melse\u001b[39;00m:\n\u001b[1;32m    <a href='file:///opt/homebrew/Caskroom/miniforge/base/envs/tf/lib/python3.8/site-packages/pandas/io/common.py?line=793'>794</a>\u001b[0m         \u001b[39m# Binary mode\u001b[39;00m\n\u001b[1;32m    <a href='file:///opt/homebrew/Caskroom/miniforge/base/envs/tf/lib/python3.8/site-packages/pandas/io/common.py?line=794'>795</a>\u001b[0m         handle \u001b[39m=\u001b[39m \u001b[39mopen\u001b[39m(handle, ioargs\u001b[39m.\u001b[39mmode)\n",
      "\u001b[0;31mFileNotFoundError\u001b[0m: [Errno 2] No such file or directory: 'train_df.csv'"
     ]
    }
   ],
   "source": [
    "train = pd.read_csv('train_df.csv')\n",
    "submission = pd.read_csv('sample_submission.csv')\n",
    "\n",
    "train.head(2)"
   ]
  },
  {
   "cell_type": "code",
   "execution_count": 5,
   "metadata": {
    "ExecuteTime": {
     "end_time": "2021-02-10T05:29:15.855258Z",
     "start_time": "2021-02-10T05:29:15.847254Z"
    }
   },
   "outputs": [
    {
     "data": {
      "text/plain": [
       "(4094, 49)"
      ]
     },
     "execution_count": 5,
     "metadata": {},
     "output_type": "execute_result"
    }
   ],
   "source": [
    "train.shape"
   ]
  },
  {
   "cell_type": "code",
   "execution_count": null,
   "metadata": {},
   "outputs": [],
   "source": []
  },
  {
   "cell_type": "code",
   "execution_count": 6,
   "metadata": {
    "ExecuteTime": {
     "end_time": "2021-02-10T05:46:04.547623Z",
     "start_time": "2021-02-10T05:46:04.512623Z"
    }
   },
   "outputs": [
    {
     "data": {
      "text/html": [
       "<div>\n",
       "<style scoped>\n",
       "    .dataframe tbody tr th:only-of-type {\n",
       "        vertical-align: middle;\n",
       "    }\n",
       "\n",
       "    .dataframe tbody tr th {\n",
       "        vertical-align: top;\n",
       "    }\n",
       "\n",
       "    .dataframe thead th {\n",
       "        text-align: right;\n",
       "    }\n",
       "</style>\n",
       "<table border=\"1\" class=\"dataframe\">\n",
       "  <thead>\n",
       "    <tr style=\"text-align: right;\">\n",
       "      <th></th>\n",
       "      <th>image</th>\n",
       "      <th>nose_x</th>\n",
       "      <th>nose_y</th>\n",
       "      <th>left_eye_x</th>\n",
       "      <th>left_eye_y</th>\n",
       "      <th>right_eye_x</th>\n",
       "      <th>right_eye_y</th>\n",
       "      <th>left_ear_x</th>\n",
       "      <th>left_ear_y</th>\n",
       "      <th>right_ear_x</th>\n",
       "      <th>...</th>\n",
       "      <th>right_palm_x</th>\n",
       "      <th>right_palm_y</th>\n",
       "      <th>spine2(back)_x</th>\n",
       "      <th>spine2(back)_y</th>\n",
       "      <th>spine1(waist)_x</th>\n",
       "      <th>spine1(waist)_y</th>\n",
       "      <th>left_instep_x</th>\n",
       "      <th>left_instep_y</th>\n",
       "      <th>right_instep_x</th>\n",
       "      <th>right_instep_y</th>\n",
       "    </tr>\n",
       "  </thead>\n",
       "  <tbody>\n",
       "    <tr>\n",
       "      <th>0</th>\n",
       "      <td>649-2-4-32-Z148_A-0000001.jpg</td>\n",
       "      <td>0</td>\n",
       "      <td>0</td>\n",
       "      <td>0</td>\n",
       "      <td>0</td>\n",
       "      <td>0</td>\n",
       "      <td>0</td>\n",
       "      <td>0</td>\n",
       "      <td>0</td>\n",
       "      <td>0</td>\n",
       "      <td>...</td>\n",
       "      <td>0</td>\n",
       "      <td>0</td>\n",
       "      <td>0</td>\n",
       "      <td>0</td>\n",
       "      <td>0</td>\n",
       "      <td>0</td>\n",
       "      <td>0</td>\n",
       "      <td>0</td>\n",
       "      <td>0</td>\n",
       "      <td>0</td>\n",
       "    </tr>\n",
       "    <tr>\n",
       "      <th>1</th>\n",
       "      <td>649-2-4-32-Z148_A-0000003.jpg</td>\n",
       "      <td>0</td>\n",
       "      <td>0</td>\n",
       "      <td>0</td>\n",
       "      <td>0</td>\n",
       "      <td>0</td>\n",
       "      <td>0</td>\n",
       "      <td>0</td>\n",
       "      <td>0</td>\n",
       "      <td>0</td>\n",
       "      <td>...</td>\n",
       "      <td>0</td>\n",
       "      <td>0</td>\n",
       "      <td>0</td>\n",
       "      <td>0</td>\n",
       "      <td>0</td>\n",
       "      <td>0</td>\n",
       "      <td>0</td>\n",
       "      <td>0</td>\n",
       "      <td>0</td>\n",
       "      <td>0</td>\n",
       "    </tr>\n",
       "  </tbody>\n",
       "</table>\n",
       "<p>2 rows × 49 columns</p>\n",
       "</div>"
      ],
      "text/plain": [
       "                           image  nose_x  nose_y  left_eye_x  left_eye_y  \\\n",
       "0  649-2-4-32-Z148_A-0000001.jpg       0       0           0           0   \n",
       "1  649-2-4-32-Z148_A-0000003.jpg       0       0           0           0   \n",
       "\n",
       "   right_eye_x  right_eye_y  left_ear_x  left_ear_y  right_ear_x  ...  \\\n",
       "0            0            0           0           0            0  ...   \n",
       "1            0            0           0           0            0  ...   \n",
       "\n",
       "   right_palm_x  right_palm_y  spine2(back)_x  spine2(back)_y  \\\n",
       "0             0             0               0               0   \n",
       "1             0             0               0               0   \n",
       "\n",
       "   spine1(waist)_x  spine1(waist)_y  left_instep_x  left_instep_y  \\\n",
       "0                0                0              0              0   \n",
       "1                0                0              0              0   \n",
       "\n",
       "   right_instep_x  right_instep_y  \n",
       "0               0               0  \n",
       "1               0               0  \n",
       "\n",
       "[2 rows x 49 columns]"
      ]
     },
     "execution_count": 6,
     "metadata": {},
     "output_type": "execute_result"
    }
   ],
   "source": [
    "#submission 파일 불러오기\n",
    "submission.head(2)"
   ]
  },
  {
   "cell_type": "code",
   "execution_count": 5,
   "metadata": {
    "ExecuteTime": {
     "end_time": "2021-02-10T05:46:10.160083Z",
     "start_time": "2021-02-10T05:46:10.061079Z"
    }
   },
   "outputs": [
    {
     "name": "stdout",
     "output_type": "stream",
     "text": [
      "4195 1600\n"
     ]
    }
   ],
   "source": [
    "#glob를 활용해 이미지의 경로들을 불러옵니다.\n",
    "import glob\n",
    "train_paths = glob.glob('./train_imgs/*.jpg')\n",
    "test_paths = glob.glob('./test_imgs/*.jpg')\n",
    "print(len(train_paths), len(test_paths))"
   ]
  },
  {
   "cell_type": "code",
   "execution_count": 6,
   "metadata": {},
   "outputs": [],
   "source": [
    "train_paths=sorted(train_paths)\n",
    "test_paths=sorted(test_paths)"
   ]
  },
  {
   "cell_type": "code",
   "execution_count": 7,
   "metadata": {},
   "outputs": [
    {
     "name": "stdout",
     "output_type": "stream",
     "text": [
      "4094\n"
     ]
    }
   ],
   "source": [
    "error_list=[317, 869, 873, 877, 911, 1559, 1560, 1562, 1566, 1575, 1577, 1578, 1582, 1606, 1607, 1622, 1623, 1624, 1625, 1629, 3968, 4115, 4116, 4117, 4118, 4119, 4120, 4121, 4122, 4123, 4124, 4125, 4126, 4127, 4128, 4129, 4130, 4131, 4132, 4133, 4134, 4135, 4136, 4137, 4138, 4139, 4140, 4141, 4142, 4143, 4144, 4145, 4146, 4147, 4148, 4149, 4150, 4151, 4152, 4153, 4154, 4155, 4156, 4157, 4158, 4159, 4160, 4161, 4162, 4163, 4164, 4165, 4166, 4167, 4168, 4169, 4170, 4171, 4172, 4173, 4174, 4175, 4176, 4177, 4178, 4179, 4180, 4181, 4182, 4183, 4184, 4185, 4186, 4187, 4188, 4189, 4190, 4191, 4192, 4193, 4194]\n",
    "for i in error_list[::-1]:\n",
    "    train_paths.pop(i)\n",
    "print(len(train_paths))\n",
    "# error_list=2[1516, 1597, 2221, 2808, 2821, 3081, 3084, 3085, 3090, 3093, 3283, 3284]\n",
    "# for i in error_list[::-1]:\n",
    "#     train_paths.pop(i)"
   ]
  },
  {
   "cell_type": "markdown",
   "metadata": {},
   "source": [
    "# 시각화"
   ]
  },
  {
   "cell_type": "markdown",
   "metadata": {},
   "source": [
    "주어진 이미지와 keypoint지점을 비교해보며 데이터에 대한 이해도를 높여봐요!"
   ]
  },
  {
   "cell_type": "code",
   "execution_count": 8,
   "metadata": {
    "ExecuteTime": {
     "end_time": "2021-02-10T05:46:43.691836Z",
     "start_time": "2021-02-10T05:46:22.748117Z"
    }
   },
   "outputs": [
    {
     "ename": "NameError",
     "evalue": "name 'train' is not defined",
     "output_type": "error",
     "traceback": [
      "\u001b[0;31m---------------------------------------------------------------------------\u001b[0m",
      "\u001b[0;31mNameError\u001b[0m                                 Traceback (most recent call last)",
      "\u001b[1;32m/Users/uk/Desktop/HDR/[코드]_데이콘 초급용 베이스라인.ipynb Cell 17'\u001b[0m in \u001b[0;36m<cell line: 4>\u001b[0;34m()\u001b[0m\n\u001b[1;32m      <a href='vscode-notebook-cell:/Users/uk/Desktop/HDR/%5B%EC%BD%94%EB%93%9C%5D_%EB%8D%B0%EC%9D%B4%EC%BD%98%20%EC%B4%88%EA%B8%89%EC%9A%A9%20%EB%B2%A0%EC%9D%B4%EC%8A%A4%EB%9D%BC%EC%9D%B8.ipynb#ch0000015?line=8'>9</a>\u001b[0m img \u001b[39m=\u001b[39m Image\u001b[39m.\u001b[39mopen(img_sample_path)\n\u001b[1;32m     <a href='vscode-notebook-cell:/Users/uk/Desktop/HDR/%5B%EC%BD%94%EB%93%9C%5D_%EB%8D%B0%EC%9D%B4%EC%BD%98%20%EC%B4%88%EA%B8%89%EC%9A%A9%20%EB%B2%A0%EC%9D%B4%EC%8A%A4%EB%9D%BC%EC%9D%B8.ipynb#ch0000015?line=9'>10</a>\u001b[0m img_np \u001b[39m=\u001b[39m np\u001b[39m.\u001b[39marray(img)\n\u001b[0;32m---> <a href='vscode-notebook-cell:/Users/uk/Desktop/HDR/%5B%EC%BD%94%EB%93%9C%5D_%EB%8D%B0%EC%9D%B4%EC%BD%98%20%EC%B4%88%EA%B8%89%EC%9A%A9%20%EB%B2%A0%EC%9D%B4%EC%8A%A4%EB%9D%BC%EC%9D%B8.ipynb#ch0000015?line=11'>12</a>\u001b[0m keypoint \u001b[39m=\u001b[39m train\u001b[39m.\u001b[39miloc[:,\u001b[39m1\u001b[39m:\u001b[39m49\u001b[39m] \u001b[39m#위치키포인트 하나씩 확인\u001b[39;00m\n\u001b[1;32m     <a href='vscode-notebook-cell:/Users/uk/Desktop/HDR/%5B%EC%BD%94%EB%93%9C%5D_%EB%8D%B0%EC%9D%B4%EC%BD%98%20%EC%B4%88%EA%B8%89%EC%9A%A9%20%EB%B2%A0%EC%9D%B4%EC%8A%A4%EB%9D%BC%EC%9D%B8.ipynb#ch0000015?line=12'>13</a>\u001b[0m keypoint_sample \u001b[39m=\u001b[39m keypoint\u001b[39m.\u001b[39miloc[i, :]\n\u001b[1;32m     <a href='vscode-notebook-cell:/Users/uk/Desktop/HDR/%5B%EC%BD%94%EB%93%9C%5D_%EB%8D%B0%EC%9D%B4%EC%BD%98%20%EC%B4%88%EA%B8%89%EC%9A%A9%20%EB%B2%A0%EC%9D%B4%EC%8A%A4%EB%9D%BC%EC%9D%B8.ipynb#ch0000015?line=14'>15</a>\u001b[0m \u001b[39mfor\u001b[39;00m j \u001b[39min\u001b[39;00m \u001b[39mrange\u001b[39m(\u001b[39m0\u001b[39m,\u001b[39mlen\u001b[39m(keypoint\u001b[39m.\u001b[39mcolumns),\u001b[39m2\u001b[39m):\n",
      "\u001b[0;31mNameError\u001b[0m: name 'train' is not defined"
     ]
    },
    {
     "data": {
      "image/png": "[encoded data removed]",
      "text/plain": [
       "<Figure size 2880x1440 with 1 Axes>"
      ]
     },
     "metadata": {
      "needs_background": "light"
     },
     "output_type": "display_data"
    }
   ],
   "source": [
    "plt.figure(figsize=(40,20))\n",
    "count=1\n",
    "\n",
    "for i in np.random.randint(0,len(train_paths),5):\n",
    "    \n",
    "    plt.subplot(5,1, count)\n",
    "    \n",
    "    img_sample_path = train_paths[i]\n",
    "    img = Image.open(img_sample_path)\n",
    "    img_np = np.array(img)\n",
    "\n",
    "    keypoint = train.iloc[:,1:49] #위치키포인트 하나씩 확인\n",
    "    keypoint_sample = keypoint.iloc[i, :]\n",
    "    \n",
    "    for j in range(0,len(keypoint.columns),2):\n",
    "        plt.plot(keypoint_sample[j], keypoint_sample[j+1],'rx')\n",
    "        plt.imshow(img_np)\n",
    "    \n",
    "    count += 1\n"
   ]
  },
  {
   "cell_type": "markdown",
   "metadata": {},
   "source": [
    "# 모델링"
   ]
  },
  {
   "cell_type": "code",
   "execution_count": 10,
   "metadata": {
    "ExecuteTime": {
     "end_time": "2021-02-10T05:46:43.879847Z",
     "start_time": "2021-02-10T05:46:43.875850Z"
    }
   },
   "outputs": [],
   "source": [
    "train['path'] = train_paths"
   ]
  },
  {
   "cell_type": "markdown",
   "metadata": {},
   "source": [
    "대용량 이미지를 불러올 때 Generator 를 활용해서 불러옵니다."
   ]
  },
  {
   "cell_type": "code",
   "execution_count": 11,
   "metadata": {
    "ExecuteTime": {
     "end_time": "2021-02-10T05:47:03.814476Z",
     "start_time": "2021-02-10T05:47:03.726469Z"
    }
   },
   "outputs": [
    {
     "name": "stdout",
     "output_type": "stream",
     "text": [
      "Metal device set to: Apple M1\n",
      "\n",
      "systemMemory: 8.00 GB\n",
      "maxCacheSize: 2.67 GB\n",
      "\n"
     ]
    },
    {
     "name": "stderr",
     "output_type": "stream",
     "text": [
      "2022-07-26 13:21:37.326602: I tensorflow/core/common_runtime/pluggable_device/pluggable_device_factory.cc:305] Could not identify NUMA node of platform GPU ID 0, defaulting to 0. Your kernel may not have been built with NUMA support.\n",
      "2022-07-26 13:21:37.327208: I tensorflow/core/common_runtime/pluggable_device/pluggable_device_factory.cc:271] Created TensorFlow device (/job:localhost/replica:0/task:0/device:GPU:0 with 0 MB memory) -> physical PluggableDevice (device: 0, name: METAL, pci bus id: <undefined>)\n"
     ]
    }
   ],
   "source": [
    "def trainGenerator():\n",
    "    for i in range(len(train)):\n",
    "        img = tf.io.read_file(train['path'][i]) # path(경로)를 통해 이미지 읽기\n",
    "        img = tf.image.decode_jpeg(img, channels=3) # 경로를 통해 불러온 이미지를 tensor로 변환\n",
    "        img = tf.image.resize(img, [180,320]) # 이미지 resize \n",
    "        target = train.iloc[:,1:49].iloc[i,:] # keypoint 뽑아주기\n",
    "        \n",
    "        yield (img, target)\n",
    "\n",
    "#generator를 활용해 데이터셋 만들기        \n",
    "train_dataset = tf.data.Dataset.from_generator(trainGenerator, (tf.float32, tf.float32), (tf.TensorShape([180,320,3]),tf.TensorShape([48])))\n",
    "train_dataset = train_dataset.batch(32).prefetch(1)"
   ]
  },
  {
   "cell_type": "code",
   "execution_count": 12,
   "metadata": {
    "ExecuteTime": {
     "end_time": "2021-02-10T05:47:04.352522Z",
     "start_time": "2021-02-10T05:47:04.345523Z"
    }
   },
   "outputs": [],
   "source": [
    "from tensorflow.python.keras.layers.advanced_activations import LeakyReLU\n",
    "from keras.models import Sequential, Model\n",
    "from keras.layers import Activation, Convolution2D, MaxPooling2D, BatchNormalization, Flatten, Dense, Dropout, Conv2D,MaxPool2D, ZeroPadding2D"
   ]
  },
  {
   "cell_type": "code",
   "execution_count": 13,
   "metadata": {
    "ExecuteTime": {
     "end_time": "2021-02-10T05:47:05.640625Z",
     "start_time": "2021-02-10T05:47:04.905566Z"
    }
   },
   "outputs": [],
   "source": [
    "#간단한 CNN 모델을 적용합니다.\n",
    "\n",
    "model = Sequential()\n",
    "\n",
    "model.add(Convolution2D(32, (3,3), padding='same', use_bias=False, input_shape=(180,320,3)))\n",
    "model.add(LeakyReLU(alpha = 0.1))\n",
    "model.add(BatchNormalization())\n",
    "\n",
    "model.add(Convolution2D(32, (3,3), padding='same', use_bias=False))\n",
    "model.add(LeakyReLU(alpha = 0.1))\n",
    "model.add(BatchNormalization())\n",
    "model.add(MaxPool2D(pool_size=(2, 2)))\n",
    "\n",
    "model.add(Convolution2D(64, (3,3), padding='same', use_bias=False))\n",
    "model.add(LeakyReLU(alpha = 0.1))\n",
    "model.add(BatchNormalization())\n",
    "\n",
    "model.add(Convolution2D(64, (3,3), padding='same', use_bias=False))\n",
    "model.add(LeakyReLU(alpha = 0.1))\n",
    "model.add(BatchNormalization())\n",
    "model.add(MaxPool2D(pool_size=(2, 2)))\n",
    "\n",
    "model.add(Convolution2D(96, (3,3), padding='same', use_bias=False))\n",
    "model.add(LeakyReLU(alpha = 0.1))\n",
    "model.add(BatchNormalization())\n",
    "\n",
    "model.add(Convolution2D(96, (3,3), padding='same', use_bias=False))\n",
    "model.add(LeakyReLU(alpha = 0.1))\n",
    "model.add(BatchNormalization())\n",
    "model.add(MaxPool2D(pool_size=(2, 2)))\n",
    "\n",
    "\n",
    "model.add(Flatten())\n",
    "model.add(Dense(512,activation='relu'))\n",
    "model.add(Dropout(0.1))\n",
    "model.add(Dense(48))"
   ]
  },
  {
   "cell_type": "code",
   "execution_count": 14,
   "metadata": {
    "ExecuteTime": {
     "end_time": "2021-02-10T05:47:06.386686Z",
     "start_time": "2021-02-10T05:47:06.356684Z"
    }
   },
   "outputs": [],
   "source": [
    "model.compile(optimizer='adam', \n",
    "              loss='mean_squared_error',\n",
    "              metrics=['mae'])"
   ]
  },
  {
   "cell_type": "code",
   "execution_count": 15,
   "metadata": {
    "ExecuteTime": {
     "end_time": "2021-02-10T07:11:41.753473Z",
     "start_time": "2021-02-10T05:47:07.094749Z"
    }
   },
   "outputs": [
    {
     "name": "stdout",
     "output_type": "stream",
     "text": [
      "Epoch 1/5\n"
     ]
    },
    {
     "name": "stderr",
     "output_type": "stream",
     "text": [
      "2022-07-26 13:21:37.975526: W tensorflow/core/platform/profile_utils/cpu_utils.cc:128] Failed to get CPU frequency: 0 Hz\n",
      "2022-07-26 13:21:38.359034: I tensorflow/core/grappler/optimizers/custom_graph_optimizer_registry.cc:113] Plugin optimizer for device_type GPU is enabled.\n"
     ]
    },
    {
     "name": "stdout",
     "output_type": "stream",
     "text": [
      "     33/Unknown - 41s 1s/step - loss: 79223.5781 - mae: 195.7494"
     ]
    }
   ],
   "source": [
    "model.fit(train_dataset,epochs = 5, verbose=1)"
   ]
  },
  {
   "cell_type": "markdown",
   "metadata": {},
   "source": [
    "# test 데이터"
   ]
  },
  {
   "cell_type": "code",
   "execution_count": null,
   "metadata": {
    "ExecuteTime": {
     "end_time": "2021-02-10T07:12:07.693599Z",
     "start_time": "2021-02-10T07:11:43.211595Z"
    }
   },
   "outputs": [
    {
     "name": "stderr",
     "output_type": "stream",
     "text": [
      "100%|██████████████████████████████████████████████████████████████████████████████| 1600/1600 [00:24<00:00, 65.62it/s]\n"
     ]
    }
   ],
   "source": [
    "X_test=[]\n",
    "\n",
    "for test_path in tqdm(test_paths):\n",
    "    img=tf.io.read_file(test_path)\n",
    "    img=tf.image.decode_jpeg(img, channels=3)\n",
    "    img=tf.image.resize(img, [180,320])\n",
    "    X_test.append(img)"
   ]
  },
  {
   "cell_type": "code",
   "execution_count": null,
   "metadata": {
    "ExecuteTime": {
     "end_time": "2021-02-10T07:12:12.496992Z",
     "start_time": "2021-02-10T07:12:12.172967Z"
    }
   },
   "outputs": [
    {
     "data": {
      "text/plain": [
       "TensorShape([1600, 180, 320, 3])"
      ]
     },
     "execution_count": 102,
     "metadata": {},
     "output_type": "execute_result"
    }
   ],
   "source": [
    "X_test=tf.stack(X_test, axis=0)\n",
    "X_test.shape"
   ]
  },
  {
   "cell_type": "code",
   "execution_count": null,
   "metadata": {
    "ExecuteTime": {
     "end_time": "2021-02-10T07:13:27.838673Z",
     "start_time": "2021-02-10T07:12:12.697008Z"
    }
   },
   "outputs": [],
   "source": [
    "pred=model.predict(X_test)"
   ]
  },
  {
   "cell_type": "markdown",
   "metadata": {},
   "source": [
    "# 제출하기"
   ]
  },
  {
   "cell_type": "code",
   "execution_count": null,
   "metadata": {
    "ExecuteTime": {
     "end_time": "2021-02-10T07:13:28.158699Z",
     "start_time": "2021-02-10T07:13:28.094694Z"
    }
   },
   "outputs": [],
   "source": [
    "submission.iloc[:,1:]=pred"
   ]
  },
  {
   "cell_type": "code",
   "execution_count": null,
   "metadata": {
    "ExecuteTime": {
     "end_time": "2021-02-10T07:13:28.483726Z",
     "start_time": "2021-02-10T07:13:28.432722Z"
    }
   },
   "outputs": [
    {
     "data": {
      "text/html": [
       "<div>\n",
       "<style scoped>\n",
       "    .dataframe tbody tr th:only-of-type {\n",
       "        vertical-align: middle;\n",
       "    }\n",
       "\n",
       "    .dataframe tbody tr th {\n",
       "        vertical-align: top;\n",
       "    }\n",
       "\n",
       "    .dataframe thead th {\n",
       "        text-align: right;\n",
       "    }\n",
       "</style>\n",
       "<table border=\"1\" class=\"dataframe\">\n",
       "  <thead>\n",
       "    <tr style=\"text-align: right;\">\n",
       "      <th></th>\n",
       "      <th>image</th>\n",
       "      <th>nose_x</th>\n",
       "      <th>nose_y</th>\n",
       "      <th>left_eye_x</th>\n",
       "      <th>left_eye_y</th>\n",
       "      <th>right_eye_x</th>\n",
       "      <th>right_eye_y</th>\n",
       "      <th>left_ear_x</th>\n",
       "      <th>left_ear_y</th>\n",
       "      <th>right_ear_x</th>\n",
       "      <th>...</th>\n",
       "      <th>right_palm_x</th>\n",
       "      <th>right_palm_y</th>\n",
       "      <th>spine2(back)_x</th>\n",
       "      <th>spine2(back)_y</th>\n",
       "      <th>spine1(waist)_x</th>\n",
       "      <th>spine1(waist)_y</th>\n",
       "      <th>left_instep_x</th>\n",
       "      <th>left_instep_y</th>\n",
       "      <th>right_instep_x</th>\n",
       "      <th>right_instep_y</th>\n",
       "    </tr>\n",
       "  </thead>\n",
       "  <tbody>\n",
       "    <tr>\n",
       "      <th>0</th>\n",
       "      <td>649-2-4-32-Z148_A-0000001.jpg</td>\n",
       "      <td>1268.942261</td>\n",
       "      <td>501.726440</td>\n",
       "      <td>1269.619629</td>\n",
       "      <td>580.965881</td>\n",
       "      <td>1265.062378</td>\n",
       "      <td>624.053589</td>\n",
       "      <td>1217.318604</td>\n",
       "      <td>660.389771</td>\n",
       "      <td>1257.067871</td>\n",
       "      <td>...</td>\n",
       "      <td>1191.721313</td>\n",
       "      <td>404.613220</td>\n",
       "      <td>1041.095459</td>\n",
       "      <td>548.207947</td>\n",
       "      <td>936.469849</td>\n",
       "      <td>537.801331</td>\n",
       "      <td>617.804443</td>\n",
       "      <td>690.768799</td>\n",
       "      <td>739.869690</td>\n",
       "      <td>698.975952</td>\n",
       "    </tr>\n",
       "    <tr>\n",
       "      <th>1</th>\n",
       "      <td>649-2-4-32-Z148_A-0000003.jpg</td>\n",
       "      <td>1266.402710</td>\n",
       "      <td>501.665619</td>\n",
       "      <td>1267.430908</td>\n",
       "      <td>580.004089</td>\n",
       "      <td>1263.021973</td>\n",
       "      <td>623.521729</td>\n",
       "      <td>1215.314087</td>\n",
       "      <td>659.858765</td>\n",
       "      <td>1254.967285</td>\n",
       "      <td>...</td>\n",
       "      <td>1189.480713</td>\n",
       "      <td>404.449280</td>\n",
       "      <td>1039.838257</td>\n",
       "      <td>547.744080</td>\n",
       "      <td>934.701416</td>\n",
       "      <td>536.664978</td>\n",
       "      <td>616.171570</td>\n",
       "      <td>689.491333</td>\n",
       "      <td>738.628479</td>\n",
       "      <td>697.600586</td>\n",
       "    </tr>\n",
       "    <tr>\n",
       "      <th>2</th>\n",
       "      <td>649-2-4-32-Z148_A-0000005.jpg</td>\n",
       "      <td>1304.076538</td>\n",
       "      <td>516.678101</td>\n",
       "      <td>1307.529785</td>\n",
       "      <td>596.015076</td>\n",
       "      <td>1307.690796</td>\n",
       "      <td>642.814575</td>\n",
       "      <td>1253.189331</td>\n",
       "      <td>675.316284</td>\n",
       "      <td>1293.296387</td>\n",
       "      <td>...</td>\n",
       "      <td>1238.987549</td>\n",
       "      <td>427.304077</td>\n",
       "      <td>1068.822998</td>\n",
       "      <td>572.099670</td>\n",
       "      <td>960.351807</td>\n",
       "      <td>548.463318</td>\n",
       "      <td>627.232971</td>\n",
       "      <td>696.583008</td>\n",
       "      <td>754.906311</td>\n",
       "      <td>699.582397</td>\n",
       "    </tr>\n",
       "    <tr>\n",
       "      <th>3</th>\n",
       "      <td>649-2-4-32-Z148_A-0000007.jpg</td>\n",
       "      <td>1303.540894</td>\n",
       "      <td>566.759033</td>\n",
       "      <td>1281.081787</td>\n",
       "      <td>655.217590</td>\n",
       "      <td>1295.017212</td>\n",
       "      <td>695.655518</td>\n",
       "      <td>1234.407227</td>\n",
       "      <td>721.599670</td>\n",
       "      <td>1276.489868</td>\n",
       "      <td>...</td>\n",
       "      <td>1235.773193</td>\n",
       "      <td>461.448059</td>\n",
       "      <td>1085.823120</td>\n",
       "      <td>589.895630</td>\n",
       "      <td>971.152893</td>\n",
       "      <td>573.485840</td>\n",
       "      <td>638.403870</td>\n",
       "      <td>721.482605</td>\n",
       "      <td>751.492981</td>\n",
       "      <td>714.414673</td>\n",
       "    </tr>\n",
       "    <tr>\n",
       "      <th>4</th>\n",
       "      <td>649-2-4-32-Z148_A-0000009.jpg</td>\n",
       "      <td>1329.686890</td>\n",
       "      <td>544.586121</td>\n",
       "      <td>1336.249023</td>\n",
       "      <td>619.779053</td>\n",
       "      <td>1344.486450</td>\n",
       "      <td>661.792114</td>\n",
       "      <td>1278.710815</td>\n",
       "      <td>687.482056</td>\n",
       "      <td>1320.781006</td>\n",
       "      <td>...</td>\n",
       "      <td>1270.250977</td>\n",
       "      <td>465.981079</td>\n",
       "      <td>1092.786987</td>\n",
       "      <td>597.718994</td>\n",
       "      <td>976.056091</td>\n",
       "      <td>566.775330</td>\n",
       "      <td>624.912231</td>\n",
       "      <td>706.950073</td>\n",
       "      <td>739.894470</td>\n",
       "      <td>701.431213</td>\n",
       "    </tr>\n",
       "    <tr>\n",
       "      <th>...</th>\n",
       "      <td>...</td>\n",
       "      <td>...</td>\n",
       "      <td>...</td>\n",
       "      <td>...</td>\n",
       "      <td>...</td>\n",
       "      <td>...</td>\n",
       "      <td>...</td>\n",
       "      <td>...</td>\n",
       "      <td>...</td>\n",
       "      <td>...</td>\n",
       "      <td>...</td>\n",
       "      <td>...</td>\n",
       "      <td>...</td>\n",
       "      <td>...</td>\n",
       "      <td>...</td>\n",
       "      <td>...</td>\n",
       "      <td>...</td>\n",
       "      <td>...</td>\n",
       "      <td>...</td>\n",
       "      <td>...</td>\n",
       "      <td>...</td>\n",
       "    </tr>\n",
       "    <tr>\n",
       "      <th>1595</th>\n",
       "      <td>786-3-5-41-Z94_E-0000023.jpg</td>\n",
       "      <td>999.335327</td>\n",
       "      <td>552.011169</td>\n",
       "      <td>868.791809</td>\n",
       "      <td>633.477356</td>\n",
       "      <td>910.661011</td>\n",
       "      <td>659.839722</td>\n",
       "      <td>901.270142</td>\n",
       "      <td>649.869629</td>\n",
       "      <td>979.360352</td>\n",
       "      <td>...</td>\n",
       "      <td>1018.104919</td>\n",
       "      <td>535.420532</td>\n",
       "      <td>1044.843384</td>\n",
       "      <td>669.874817</td>\n",
       "      <td>1113.969971</td>\n",
       "      <td>805.077698</td>\n",
       "      <td>1199.465576</td>\n",
       "      <td>860.448975</td>\n",
       "      <td>1399.939575</td>\n",
       "      <td>903.735718</td>\n",
       "    </tr>\n",
       "    <tr>\n",
       "      <th>1596</th>\n",
       "      <td>786-3-5-41-Z94_E-0000025.jpg</td>\n",
       "      <td>1106.906128</td>\n",
       "      <td>562.054382</td>\n",
       "      <td>958.990662</td>\n",
       "      <td>666.396912</td>\n",
       "      <td>991.827515</td>\n",
       "      <td>681.334534</td>\n",
       "      <td>989.851257</td>\n",
       "      <td>672.662354</td>\n",
       "      <td>1068.646851</td>\n",
       "      <td>...</td>\n",
       "      <td>1085.259033</td>\n",
       "      <td>551.748901</td>\n",
       "      <td>1115.356567</td>\n",
       "      <td>691.800232</td>\n",
       "      <td>1181.441895</td>\n",
       "      <td>847.740662</td>\n",
       "      <td>1257.530273</td>\n",
       "      <td>876.744995</td>\n",
       "      <td>1466.704224</td>\n",
       "      <td>899.254395</td>\n",
       "    </tr>\n",
       "    <tr>\n",
       "      <th>1597</th>\n",
       "      <td>786-3-5-41-Z94_E-0000027.jpg</td>\n",
       "      <td>993.554016</td>\n",
       "      <td>536.595947</td>\n",
       "      <td>867.835388</td>\n",
       "      <td>619.877747</td>\n",
       "      <td>905.165161</td>\n",
       "      <td>643.348877</td>\n",
       "      <td>899.118774</td>\n",
       "      <td>637.044128</td>\n",
       "      <td>976.804688</td>\n",
       "      <td>...</td>\n",
       "      <td>1009.601868</td>\n",
       "      <td>515.173706</td>\n",
       "      <td>1037.880005</td>\n",
       "      <td>657.589050</td>\n",
       "      <td>1106.484253</td>\n",
       "      <td>790.974976</td>\n",
       "      <td>1193.503052</td>\n",
       "      <td>844.256287</td>\n",
       "      <td>1391.666748</td>\n",
       "      <td>883.414673</td>\n",
       "    </tr>\n",
       "    <tr>\n",
       "      <th>1598</th>\n",
       "      <td>786-3-5-41-Z94_E-0000029.jpg</td>\n",
       "      <td>1061.924683</td>\n",
       "      <td>557.271851</td>\n",
       "      <td>922.531799</td>\n",
       "      <td>657.576782</td>\n",
       "      <td>956.912903</td>\n",
       "      <td>671.012268</td>\n",
       "      <td>951.458862</td>\n",
       "      <td>663.424255</td>\n",
       "      <td>1032.706543</td>\n",
       "      <td>...</td>\n",
       "      <td>1045.470703</td>\n",
       "      <td>550.322205</td>\n",
       "      <td>1085.036499</td>\n",
       "      <td>689.566223</td>\n",
       "      <td>1154.308716</td>\n",
       "      <td>833.558472</td>\n",
       "      <td>1235.957642</td>\n",
       "      <td>872.923462</td>\n",
       "      <td>1441.200928</td>\n",
       "      <td>897.152222</td>\n",
       "    </tr>\n",
       "    <tr>\n",
       "      <th>1599</th>\n",
       "      <td>786-3-5-41-Z94_E-0000031.jpg</td>\n",
       "      <td>1084.100098</td>\n",
       "      <td>561.047607</td>\n",
       "      <td>940.577209</td>\n",
       "      <td>665.661926</td>\n",
       "      <td>974.078979</td>\n",
       "      <td>680.721069</td>\n",
       "      <td>970.771790</td>\n",
       "      <td>670.845337</td>\n",
       "      <td>1049.513428</td>\n",
       "      <td>...</td>\n",
       "      <td>1065.524902</td>\n",
       "      <td>554.575806</td>\n",
       "      <td>1099.385986</td>\n",
       "      <td>692.582581</td>\n",
       "      <td>1167.692627</td>\n",
       "      <td>842.996155</td>\n",
       "      <td>1248.604736</td>\n",
       "      <td>874.727295</td>\n",
       "      <td>1455.185913</td>\n",
       "      <td>897.540222</td>\n",
       "    </tr>\n",
       "  </tbody>\n",
       "</table>\n",
       "<p>1600 rows × 49 columns</p>\n",
       "</div>"
      ],
      "text/plain": [
       "                              image       nose_x      nose_y   left_eye_x  \\\n",
       "0     649-2-4-32-Z148_A-0000001.jpg  1268.942261  501.726440  1269.619629   \n",
       "1     649-2-4-32-Z148_A-0000003.jpg  1266.402710  501.665619  1267.430908   \n",
       "2     649-2-4-32-Z148_A-0000005.jpg  1304.076538  516.678101  1307.529785   \n",
       "3     649-2-4-32-Z148_A-0000007.jpg  1303.540894  566.759033  1281.081787   \n",
       "4     649-2-4-32-Z148_A-0000009.jpg  1329.686890  544.586121  1336.249023   \n",
       "...                             ...          ...         ...          ...   \n",
       "1595   786-3-5-41-Z94_E-0000023.jpg   999.335327  552.011169   868.791809   \n",
       "1596   786-3-5-41-Z94_E-0000025.jpg  1106.906128  562.054382   958.990662   \n",
       "1597   786-3-5-41-Z94_E-0000027.jpg   993.554016  536.595947   867.835388   \n",
       "1598   786-3-5-41-Z94_E-0000029.jpg  1061.924683  557.271851   922.531799   \n",
       "1599   786-3-5-41-Z94_E-0000031.jpg  1084.100098  561.047607   940.577209   \n",
       "\n",
       "      left_eye_y  right_eye_x  right_eye_y   left_ear_x  left_ear_y  \\\n",
       "0     580.965881  1265.062378   624.053589  1217.318604  660.389771   \n",
       "1     580.004089  1263.021973   623.521729  1215.314087  659.858765   \n",
       "2     596.015076  1307.690796   642.814575  1253.189331  675.316284   \n",
       "3     655.217590  1295.017212   695.655518  1234.407227  721.599670   \n",
       "4     619.779053  1344.486450   661.792114  1278.710815  687.482056   \n",
       "...          ...          ...          ...          ...         ...   \n",
       "1595  633.477356   910.661011   659.839722   901.270142  649.869629   \n",
       "1596  666.396912   991.827515   681.334534   989.851257  672.662354   \n",
       "1597  619.877747   905.165161   643.348877   899.118774  637.044128   \n",
       "1598  657.576782   956.912903   671.012268   951.458862  663.424255   \n",
       "1599  665.661926   974.078979   680.721069   970.771790  670.845337   \n",
       "\n",
       "      right_ear_x  ...  right_palm_x  right_palm_y  spine2(back)_x  \\\n",
       "0     1257.067871  ...   1191.721313    404.613220     1041.095459   \n",
       "1     1254.967285  ...   1189.480713    404.449280     1039.838257   \n",
       "2     1293.296387  ...   1238.987549    427.304077     1068.822998   \n",
       "3     1276.489868  ...   1235.773193    461.448059     1085.823120   \n",
       "4     1320.781006  ...   1270.250977    465.981079     1092.786987   \n",
       "...           ...  ...           ...           ...             ...   \n",
       "1595   979.360352  ...   1018.104919    535.420532     1044.843384   \n",
       "1596  1068.646851  ...   1085.259033    551.748901     1115.356567   \n",
       "1597   976.804688  ...   1009.601868    515.173706     1037.880005   \n",
       "1598  1032.706543  ...   1045.470703    550.322205     1085.036499   \n",
       "1599  1049.513428  ...   1065.524902    554.575806     1099.385986   \n",
       "\n",
       "      spine2(back)_y  spine1(waist)_x  spine1(waist)_y  left_instep_x  \\\n",
       "0         548.207947       936.469849       537.801331     617.804443   \n",
       "1         547.744080       934.701416       536.664978     616.171570   \n",
       "2         572.099670       960.351807       548.463318     627.232971   \n",
       "3         589.895630       971.152893       573.485840     638.403870   \n",
       "4         597.718994       976.056091       566.775330     624.912231   \n",
       "...              ...              ...              ...            ...   \n",
       "1595      669.874817      1113.969971       805.077698    1199.465576   \n",
       "1596      691.800232      1181.441895       847.740662    1257.530273   \n",
       "1597      657.589050      1106.484253       790.974976    1193.503052   \n",
       "1598      689.566223      1154.308716       833.558472    1235.957642   \n",
       "1599      692.582581      1167.692627       842.996155    1248.604736   \n",
       "\n",
       "      left_instep_y  right_instep_x  right_instep_y  \n",
       "0        690.768799      739.869690      698.975952  \n",
       "1        689.491333      738.628479      697.600586  \n",
       "2        696.583008      754.906311      699.582397  \n",
       "3        721.482605      751.492981      714.414673  \n",
       "4        706.950073      739.894470      701.431213  \n",
       "...             ...             ...             ...  \n",
       "1595     860.448975     1399.939575      903.735718  \n",
       "1596     876.744995     1466.704224      899.254395  \n",
       "1597     844.256287     1391.666748      883.414673  \n",
       "1598     872.923462     1441.200928      897.152222  \n",
       "1599     874.727295     1455.185913      897.540222  \n",
       "\n",
       "[1600 rows x 49 columns]"
      ]
     },
     "execution_count": 105,
     "metadata": {},
     "output_type": "execute_result"
    }
   ],
   "source": [
    "submission"
   ]
  },
  {
   "cell_type": "code",
   "execution_count": null,
   "metadata": {
    "ExecuteTime": {
     "end_time": "2021-02-10T07:13:29.046771Z",
     "start_time": "2021-02-10T07:13:28.822753Z"
    }
   },
   "outputs": [],
   "source": [
    "submission.to_csv('baseline_submission.csv', index=False)"
   ]
  },
  {
   "cell_type": "code",
   "execution_count": null,
   "metadata": {},
   "outputs": [],
   "source": []
  }
 ],
 "metadata": {
  "hide_input": false,
  "kernelspec": {
   "display_name": "Python 3",
   "language": "python",
   "name": "python3"
  },
  "language_info": {
   "codemirror_mode": {
    "name": "ipython",
    "version": 3
   },
   "file_extension": ".py",
   "mimetype": "text/x-python",
   "name": "python",
   "nbconvert_exporter": "python",
   "pygments_lexer": "ipython3",
   "version": "3.8.13"
  },
  "toc": {
   "base_numbering": 1,
   "nav_menu": {},
   "number_sections": true,
   "sideBar": true,
   "skip_h1_title": false,
   "title_cell": "Table of Contents",
   "title_sidebar": "Contents",
   "toc_cell": false,
   "toc_position": {},
   "toc_section_display": true,
   "toc_window_display": false
  },
  "varInspector": {
   "cols": {
    "lenName": 16,
    "lenType": 16,
    "lenVar": 40
   },
   "kernels_config": {
    "python": {
     "delete_cmd_postfix": "",
     "delete_cmd_prefix": "del ",
     "library": "var_list.py",
     "varRefreshCmd": "print(var_dic_list())"
    },
    "r": {
     "delete_cmd_postfix": ") ",
     "delete_cmd_prefix": "rm(",
     "library": "var_list.r",
     "varRefreshCmd": "cat(var_dic_list()) "
    }
   },
   "types_to_exclude": [
    "module",
    "function",
    "builtin_function_or_method",
    "instance",
    "_Feature"
   ],
   "window_display": false
  }
 },
 "nbformat": 4,
 "nbformat_minor": 4
}
